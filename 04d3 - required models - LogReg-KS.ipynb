{
 "cells": [
  {
   "cell_type": "markdown",
   "id": "fae65291",
   "metadata": {},
   "source": [
    "In this section we will provide the results from four modeling approaches.  Three of these \n",
    "modeling approaches are defined for you, and you get to choose the fourth approach from the \n",
    "list of choices.   \n",
    "    - For each model provide any relevant or useful model output and a table of the model\n",
    "    performance in-sample (i.e. on the training data set) and out-of-sample (i.e. on the test data set).   \n",
    "    - The metrics to be measured are:   \n",
    "        (1) true positive rate or sensitivity  \n",
    "        (2) false positive rate  \n",
    "        (3) the accuracy.  \n",
    " \n",
    "5.a Random Forest  \n",
    "    - Include the variable importance plot.  \n",
    " \n",
    "5.b Gradient Boosting  \n",
    "    - Use GBM or XGBoost packages.  Include the variable importance plot.  \n",
    "\n",
    "5.c Logistic Regression with Variable Selection   \n",
    "    - Random Forest and Gradient Boosting will identify a pool of interesting predictor \n",
    "    variables.  Use that information to help you choose an initial pool of predictor variables.   \n",
    "    List your initial pool of predictor variables in a table.   \n",
    "    - Choose a variable selection algorithm.  Use that variable selection algorithm to arrive at \n",
    "    an ‘optimal’ logistic regression model.  \n",
    "    - Since this is a linear model, you should provide a table of the model coefficients and \n",
    "    their p-values.  \n",
    " \n",
    "5.d Your Choice – CHAID, Neural Network, SVM, or some other method appropriate for \n",
    "binary classification.   \n",
    "    - Provide the relevant output for the model of choice.  For example SVM has margin \n",
    "    plots that are useful, and a neural network allows you to plot out the network topology.  If \n",
    "    your chosen method has a ‘standard’ plot that is typically shown with it, then we all \n",
    "    expect to see that plot, and you should be providing that plot with the model."
   ]
  },
  {
   "cell_type": "code",
   "execution_count": 1,
   "id": "cde8f6d0",
   "metadata": {},
   "outputs": [],
   "source": [
    "### ref https://blog.jovian.ai/machine-learning-with-python-implementing-xgboost-and-random-forest-fd51fa4f9f4c#b9a9\n",
    "# !pip install numpy pandas matplotlib seaborn --quiet\n",
    "# !pip install jovian opendatasets xgboost graphviz lightgbm scikit-learn xgboost lightgbm --upgrade --quiet\n",
    "# !pip install pyreadr\n",
    "\n",
    "#importing dataset\n",
    "import os\n",
    "# import opendatasets as od\n",
    "import pandas as pd\n",
    "import numpy as np\n",
    "import pyreadr\n",
    "\n",
    "#Pipeline\n",
    "from sklearn.pipeline import make_pipeline\n",
    "from sklearn.compose import make_column_transformer\n",
    "\n",
    "# For Missing Value and Feature Engineering\n",
    "from sklearn.feature_selection import SelectKBest, chi2, f_classif, VarianceThreshold\n",
    "from sklearn.impute import SimpleImputer, KNNImputer, MissingIndicator\n",
    "from sklearn.preprocessing import KBinsDiscretizer, OneHotEncoder, MinMaxScaler\n",
    "from sklearn.decomposition import PCA\n",
    "from sklearn.ensemble import RandomForestClassifier, ExtraTreesClassifier\n",
    "\n",
    "from sklearn import metrics\n",
    "\n",
    "import time\n",
    "\n",
    "#for visualization\n",
    "import seaborn as sns\n",
    "import matplotlib.pyplot as plt\n",
    "\n",
    "pd.set_option(\"display.max_columns\", 120)\n",
    "pd.set_option(\"display.max_rows\", 120)\n"
   ]
  },
  {
   "cell_type": "code",
   "execution_count": 2,
   "id": "5a18183e",
   "metadata": {},
   "outputs": [],
   "source": [
    "credit_card_default_raw = pd.read_csv('./Data/credit_card_default.csv')\n",
    "# credit_card_default_eng = pd.read_csv('./Data/credit_card_default_eng.csv')\n",
    "result = pyreadr.read_r('./Data/credit_card_default_eng_features.RData') \n",
    "credit_card_default_eng = result[None]\n",
    "\n",
    "credit_card_default = credit_card_default_eng.copy()\n",
    "df_flags = credit_card_default_raw[['data.group', 'DEFAULT']]\n",
    "df_other_features = credit_card_default_raw[['SEX','EDUCATION','MARRIAGE','AGE']]\n",
    "credit_card_default = credit_card_default.join(df_flags)\n",
    "credit_card_default = credit_card_default.join(df_other_features)\n"
   ]
  },
  {
   "cell_type": "code",
   "execution_count": 3,
   "id": "4a66cbcd",
   "metadata": {},
   "outputs": [],
   "source": [
    "credit_card_default = credit_card_default[['pay_max', 'ratio_avg','balance_growth_6mo','payment_avg','data.group','DEFAULT']]"
   ]
  },
  {
   "cell_type": "code",
   "execution_count": 4,
   "id": "643980f8",
   "metadata": {},
   "outputs": [
    {
     "data": {
      "text/html": [
       "<div>\n",
       "<style scoped>\n",
       "    .dataframe tbody tr th:only-of-type {\n",
       "        vertical-align: middle;\n",
       "    }\n",
       "\n",
       "    .dataframe tbody tr th {\n",
       "        vertical-align: top;\n",
       "    }\n",
       "\n",
       "    .dataframe thead th {\n",
       "        text-align: right;\n",
       "    }\n",
       "</style>\n",
       "<table border=\"1\" class=\"dataframe\">\n",
       "  <thead>\n",
       "    <tr style=\"text-align: right;\">\n",
       "      <th></th>\n",
       "      <th>pay_max</th>\n",
       "      <th>ratio_avg</th>\n",
       "      <th>balance_growth_6mo</th>\n",
       "      <th>payment_avg</th>\n",
       "      <th>data.group</th>\n",
       "      <th>DEFAULT</th>\n",
       "    </tr>\n",
       "  </thead>\n",
       "  <tbody>\n",
       "    <tr>\n",
       "      <th>count</th>\n",
       "      <td>30000.000000</td>\n",
       "      <td>30000.000000</td>\n",
       "      <td>30000.000000</td>\n",
       "      <td>30000.000000</td>\n",
       "      <td>30000.000000</td>\n",
       "      <td>30000.000000</td>\n",
       "    </tr>\n",
       "    <tr>\n",
       "      <th>mean</th>\n",
       "      <td>0.682200</td>\n",
       "      <td>0.576423</td>\n",
       "      <td>-0.090664</td>\n",
       "      <td>5275.232094</td>\n",
       "      <td>1.743900</td>\n",
       "      <td>0.221200</td>\n",
       "    </tr>\n",
       "    <tr>\n",
       "      <th>std</th>\n",
       "      <td>1.073518</td>\n",
       "      <td>16.499616</td>\n",
       "      <td>0.279674</td>\n",
       "      <td>10137.946323</td>\n",
       "      <td>0.830864</td>\n",
       "      <td>0.415062</td>\n",
       "    </tr>\n",
       "    <tr>\n",
       "      <th>min</th>\n",
       "      <td>0.000000</td>\n",
       "      <td>0.000000</td>\n",
       "      <td>-4.700400</td>\n",
       "      <td>0.000000</td>\n",
       "      <td>1.000000</td>\n",
       "      <td>0.000000</td>\n",
       "    </tr>\n",
       "    <tr>\n",
       "      <th>25%</th>\n",
       "      <td>0.000000</td>\n",
       "      <td>0.047855</td>\n",
       "      <td>-0.146863</td>\n",
       "      <td>1113.291667</td>\n",
       "      <td>1.000000</td>\n",
       "      <td>0.000000</td>\n",
       "    </tr>\n",
       "    <tr>\n",
       "      <th>50%</th>\n",
       "      <td>0.000000</td>\n",
       "      <td>0.197668</td>\n",
       "      <td>-0.004382</td>\n",
       "      <td>2397.166667</td>\n",
       "      <td>1.000000</td>\n",
       "      <td>0.000000</td>\n",
       "    </tr>\n",
       "    <tr>\n",
       "      <th>75%</th>\n",
       "      <td>2.000000</td>\n",
       "      <td>0.903817</td>\n",
       "      <td>0.028105</td>\n",
       "      <td>5583.916667</td>\n",
       "      <td>2.000000</td>\n",
       "      <td>0.000000</td>\n",
       "    </tr>\n",
       "    <tr>\n",
       "      <th>max</th>\n",
       "      <td>8.000000</td>\n",
       "      <td>2667.199955</td>\n",
       "      <td>1.791100</td>\n",
       "      <td>627344.333333</td>\n",
       "      <td>3.000000</td>\n",
       "      <td>1.000000</td>\n",
       "    </tr>\n",
       "  </tbody>\n",
       "</table>\n",
       "</div>"
      ],
      "text/plain": [
       "            pay_max     ratio_avg  balance_growth_6mo    payment_avg  \\\n",
       "count  30000.000000  30000.000000        30000.000000   30000.000000   \n",
       "mean       0.682200      0.576423           -0.090664    5275.232094   \n",
       "std        1.073518     16.499616            0.279674   10137.946323   \n",
       "min        0.000000      0.000000           -4.700400       0.000000   \n",
       "25%        0.000000      0.047855           -0.146863    1113.291667   \n",
       "50%        0.000000      0.197668           -0.004382    2397.166667   \n",
       "75%        2.000000      0.903817            0.028105    5583.916667   \n",
       "max        8.000000   2667.199955            1.791100  627344.333333   \n",
       "\n",
       "         data.group       DEFAULT  \n",
       "count  30000.000000  30000.000000  \n",
       "mean       1.743900      0.221200  \n",
       "std        0.830864      0.415062  \n",
       "min        1.000000      0.000000  \n",
       "25%        1.000000      0.000000  \n",
       "50%        1.000000      0.000000  \n",
       "75%        2.000000      0.000000  \n",
       "max        3.000000      1.000000  "
      ]
     },
     "metadata": {},
     "output_type": "display_data"
    },
    {
     "data": {
      "text/html": [
       "<div>\n",
       "<style scoped>\n",
       "    .dataframe tbody tr th:only-of-type {\n",
       "        vertical-align: middle;\n",
       "    }\n",
       "\n",
       "    .dataframe tbody tr th {\n",
       "        vertical-align: top;\n",
       "    }\n",
       "\n",
       "    .dataframe thead th {\n",
       "        text-align: right;\n",
       "    }\n",
       "</style>\n",
       "<table border=\"1\" class=\"dataframe\">\n",
       "  <thead>\n",
       "    <tr style=\"text-align: right;\">\n",
       "      <th></th>\n",
       "      <th>pay_max</th>\n",
       "      <th>ratio_avg</th>\n",
       "      <th>balance_growth_6mo</th>\n",
       "      <th>payment_avg</th>\n",
       "      <th>data.group</th>\n",
       "      <th>DEFAULT</th>\n",
       "    </tr>\n",
       "  </thead>\n",
       "  <tbody>\n",
       "    <tr>\n",
       "      <th>0</th>\n",
       "      <td>2.0</td>\n",
       "      <td>0.800000</td>\n",
       "      <td>-0.195650</td>\n",
       "      <td>114.833333</td>\n",
       "      <td>1</td>\n",
       "      <td>1</td>\n",
       "    </tr>\n",
       "    <tr>\n",
       "      <th>1</th>\n",
       "      <td>2.0</td>\n",
       "      <td>0.193583</td>\n",
       "      <td>0.006442</td>\n",
       "      <td>833.333333</td>\n",
       "      <td>3</td>\n",
       "      <td>1</td>\n",
       "    </tr>\n",
       "    <tr>\n",
       "      <th>2</th>\n",
       "      <td>0.0</td>\n",
       "      <td>0.083968</td>\n",
       "      <td>-0.158789</td>\n",
       "      <td>1836.333333</td>\n",
       "      <td>1</td>\n",
       "      <td>0</td>\n",
       "    </tr>\n",
       "    <tr>\n",
       "      <th>3</th>\n",
       "      <td>0.0</td>\n",
       "      <td>0.039794</td>\n",
       "      <td>-0.360620</td>\n",
       "      <td>1398.000000</td>\n",
       "      <td>3</td>\n",
       "      <td>0</td>\n",
       "    </tr>\n",
       "    <tr>\n",
       "      <th>4</th>\n",
       "      <td>0.0</td>\n",
       "      <td>0.471997</td>\n",
       "      <td>0.210580</td>\n",
       "      <td>9841.500000</td>\n",
       "      <td>3</td>\n",
       "      <td>0</td>\n",
       "    </tr>\n",
       "  </tbody>\n",
       "</table>\n",
       "</div>"
      ],
      "text/plain": [
       "   pay_max  ratio_avg  balance_growth_6mo  payment_avg  data.group  DEFAULT\n",
       "0      2.0   0.800000           -0.195650   114.833333           1        1\n",
       "1      2.0   0.193583            0.006442   833.333333           3        1\n",
       "2      0.0   0.083968           -0.158789  1836.333333           1        0\n",
       "3      0.0   0.039794           -0.360620  1398.000000           3        0\n",
       "4      0.0   0.471997            0.210580  9841.500000           3        0"
      ]
     },
     "metadata": {},
     "output_type": "display_data"
    }
   ],
   "source": [
    "\n",
    "display(credit_card_default.describe())\n",
    "display(credit_card_default.head())"
   ]
  },
  {
   "cell_type": "code",
   "execution_count": 5,
   "id": "a6c2e642",
   "metadata": {},
   "outputs": [
    {
     "data": {
      "text/plain": [
       "pay_max               float64\n",
       "ratio_avg             float64\n",
       "balance_growth_6mo    float64\n",
       "payment_avg           float64\n",
       "data.group              int64\n",
       "DEFAULT                 int64\n",
       "dtype: object"
      ]
     },
     "execution_count": 5,
     "metadata": {},
     "output_type": "execute_result"
    }
   ],
   "source": [
    "credit_card_default.dtypes"
   ]
  },
  {
   "cell_type": "code",
   "execution_count": 6,
   "id": "dbcc1fba",
   "metadata": {},
   "outputs": [
    {
     "name": "stdout",
     "output_type": "stream",
     "text": [
      "train data size: (15180, 5)\n",
      "test data size: (7323, 5)\n",
      "validate data size: (7497, 5)\n"
     ]
    }
   ],
   "source": [
    "ccd_train = credit_card_default[credit_card_default['data.group']==1].drop(columns='data.group')\n",
    "ccd_test = credit_card_default[credit_card_default['data.group']==2].drop(columns='data.group')\n",
    "ccd_validate = credit_card_default[credit_card_default['data.group']==3].drop(columns='data.group')\n",
    "\n",
    "print('train data size:', ccd_train.shape)\n",
    "print('test data size:', ccd_test.shape)\n",
    "print('validate data size:', ccd_validate.shape)"
   ]
  },
  {
   "cell_type": "code",
   "execution_count": 7,
   "id": "ba56ddeb",
   "metadata": {},
   "outputs": [],
   "source": [
    "X = credit_card_default.drop(columns='data.group')\n",
    "X_train = ccd_train.drop(columns='DEFAULT')\n",
    "X_train_official = ccd_train.drop(columns='DEFAULT') # _official is for k_fold or other resplitting methods that would change defn\n",
    "X_test = ccd_test.drop(columns='DEFAULT')\n",
    "X_test_official = ccd_test.drop(columns='DEFAULT')\n",
    "\n",
    "y = credit_card_default['DEFAULT']\n",
    "y_train = ccd_train['DEFAULT']\n",
    "y_train_official = ccd_train['DEFAULT']\n",
    "y_test = ccd_test['DEFAULT']\n",
    "y_test_official = ccd_test['DEFAULT']"
   ]
  },
  {
   "cell_type": "markdown",
   "id": "89f2d9d8",
   "metadata": {},
   "source": [
    "Prep for modeling"
   ]
  },
  {
   "cell_type": "code",
   "execution_count": 8,
   "id": "9b3eff3f",
   "metadata": {},
   "outputs": [],
   "source": [
    "all_features = credit_card_default_eng.columns\n",
    "all_features = all_features.tolist()"
   ]
  },
  {
   "cell_type": "code",
   "execution_count": 9,
   "id": "55bee92d",
   "metadata": {},
   "outputs": [
    {
     "data": {
      "text/plain": [
       "['pay_max', 'ratio_avg', 'balance_growth_6mo', 'payment_avg']"
      ]
     },
     "metadata": {},
     "output_type": "display_data"
    },
    {
     "data": {
      "text/plain": [
       "[]"
      ]
     },
     "metadata": {},
     "output_type": "display_data"
    }
   ],
   "source": [
    "numerical_features = [c for c, dtype in zip(X_train.columns, X_train.dtypes)\n",
    "                     if dtype.kind in ['i','f']]\n",
    "display(numerical_features)\n",
    "categorical_features = [c for c, dtype in zip(X_train.columns, X_train.dtypes)\n",
    "                     if dtype.kind not in ['i','f']]\n",
    "display(categorical_features)"
   ]
  },
  {
   "cell_type": "code",
   "execution_count": 10,
   "id": "82ba9fa8",
   "metadata": {},
   "outputs": [],
   "source": [
    "### we've done our own splitting\n",
    "\n",
    "# #import train_test_split library\n",
    "# from sklearn.model_selection import train_test_split\n",
    "\n",
    "# # create train test split\n",
    "# y_train, X_test, y_train, y_test = train_test_split(X,  y, test_size=0.3, random_state=42) "
   ]
  },
  {
   "cell_type": "code",
   "execution_count": 11,
   "id": "3273c65d",
   "metadata": {},
   "outputs": [],
   "source": [
    "preprocessor = make_column_transformer( \n",
    "    \n",
    "    (make_pipeline(\n",
    "    SimpleImputer(strategy = 'median'),\n",
    "    # KNNImputer(n_neighbors=2, weights=\"uniform\"),\n",
    "    MinMaxScaler()), numerical_features),\n",
    "    \n",
    "    (make_pipeline(\n",
    "    SimpleImputer(strategy = 'constant', fill_value = 'missing'),  # ValueError: 'fill_value'=missing is invalid. Expected a numerical value when imputing numerical data\n",
    "    OneHotEncoder(categories = 'auto', handle_unknown = 'ignore')), categorical_features),\n",
    "    \n",
    ")"
   ]
  },
  {
   "cell_type": "code",
   "execution_count": 12,
   "id": "f1d6f6bc",
   "metadata": {},
   "outputs": [],
   "source": [
    "preprocessor_best = make_pipeline(preprocessor, \n",
    "                                  VarianceThreshold(), \n",
    "                                  SelectKBest(f_classif, k = 'all')\n",
    "                                 )"
   ]
  },
  {
   "cell_type": "markdown",
   "id": "6166bbbf",
   "metadata": {},
   "source": [
    "5.a Model\n",
    "source: https://towardsdatascience.com/logistic-regression-using-python-sklearn-numpy-mnist-handwriting-recognition-matplotlib-a6b31e2b166a"
   ]
  },
  {
   "cell_type": "code",
   "execution_count": 13,
   "id": "473134ed",
   "metadata": {},
   "outputs": [],
   "source": [
    "from sklearn.linear_model import LogisticRegression\n",
    "logisticRegr = LogisticRegression()\n"
   ]
  },
  {
   "cell_type": "code",
   "execution_count": 14,
   "id": "987fe178",
   "metadata": {},
   "outputs": [
    {
     "data": {
      "text/html": [
       "<style>#sk-container-id-1 {color: black;background-color: white;}#sk-container-id-1 pre{padding: 0;}#sk-container-id-1 div.sk-toggleable {background-color: white;}#sk-container-id-1 label.sk-toggleable__label {cursor: pointer;display: block;width: 100%;margin-bottom: 0;padding: 0.3em;box-sizing: border-box;text-align: center;}#sk-container-id-1 label.sk-toggleable__label-arrow:before {content: \"▸\";float: left;margin-right: 0.25em;color: #696969;}#sk-container-id-1 label.sk-toggleable__label-arrow:hover:before {color: black;}#sk-container-id-1 div.sk-estimator:hover label.sk-toggleable__label-arrow:before {color: black;}#sk-container-id-1 div.sk-toggleable__content {max-height: 0;max-width: 0;overflow: hidden;text-align: left;background-color: #f0f8ff;}#sk-container-id-1 div.sk-toggleable__content pre {margin: 0.2em;color: black;border-radius: 0.25em;background-color: #f0f8ff;}#sk-container-id-1 input.sk-toggleable__control:checked~div.sk-toggleable__content {max-height: 200px;max-width: 100%;overflow: auto;}#sk-container-id-1 input.sk-toggleable__control:checked~label.sk-toggleable__label-arrow:before {content: \"▾\";}#sk-container-id-1 div.sk-estimator input.sk-toggleable__control:checked~label.sk-toggleable__label {background-color: #d4ebff;}#sk-container-id-1 div.sk-label input.sk-toggleable__control:checked~label.sk-toggleable__label {background-color: #d4ebff;}#sk-container-id-1 input.sk-hidden--visually {border: 0;clip: rect(1px 1px 1px 1px);clip: rect(1px, 1px, 1px, 1px);height: 1px;margin: -1px;overflow: hidden;padding: 0;position: absolute;width: 1px;}#sk-container-id-1 div.sk-estimator {font-family: monospace;background-color: #f0f8ff;border: 1px dotted black;border-radius: 0.25em;box-sizing: border-box;margin-bottom: 0.5em;}#sk-container-id-1 div.sk-estimator:hover {background-color: #d4ebff;}#sk-container-id-1 div.sk-parallel-item::after {content: \"\";width: 100%;border-bottom: 1px solid gray;flex-grow: 1;}#sk-container-id-1 div.sk-label:hover label.sk-toggleable__label {background-color: #d4ebff;}#sk-container-id-1 div.sk-serial::before {content: \"\";position: absolute;border-left: 1px solid gray;box-sizing: border-box;top: 0;bottom: 0;left: 50%;z-index: 0;}#sk-container-id-1 div.sk-serial {display: flex;flex-direction: column;align-items: center;background-color: white;padding-right: 0.2em;padding-left: 0.2em;position: relative;}#sk-container-id-1 div.sk-item {position: relative;z-index: 1;}#sk-container-id-1 div.sk-parallel {display: flex;align-items: stretch;justify-content: center;background-color: white;position: relative;}#sk-container-id-1 div.sk-item::before, #sk-container-id-1 div.sk-parallel-item::before {content: \"\";position: absolute;border-left: 1px solid gray;box-sizing: border-box;top: 0;bottom: 0;left: 50%;z-index: -1;}#sk-container-id-1 div.sk-parallel-item {display: flex;flex-direction: column;z-index: 1;position: relative;background-color: white;}#sk-container-id-1 div.sk-parallel-item:first-child::after {align-self: flex-end;width: 50%;}#sk-container-id-1 div.sk-parallel-item:last-child::after {align-self: flex-start;width: 50%;}#sk-container-id-1 div.sk-parallel-item:only-child::after {width: 0;}#sk-container-id-1 div.sk-dashed-wrapped {border: 1px dashed gray;margin: 0 0.4em 0.5em 0.4em;box-sizing: border-box;padding-bottom: 0.4em;background-color: white;}#sk-container-id-1 div.sk-label label {font-family: monospace;font-weight: bold;display: inline-block;line-height: 1.2em;}#sk-container-id-1 div.sk-label-container {text-align: center;}#sk-container-id-1 div.sk-container {/* jupyter's `normalize.less` sets `[hidden] { display: none; }` but bootstrap.min.css set `[hidden] { display: none !important; }` so we also need the `!important` here to be able to override the default hidden behavior on the sphinx rendered scikit-learn.org. See: https://github.com/scikit-learn/scikit-learn/issues/21755 */display: inline-block !important;position: relative;}#sk-container-id-1 div.sk-text-repr-fallback {display: none;}</style><div id=\"sk-container-id-1\" class=\"sk-top-container\"><div class=\"sk-text-repr-fallback\"><pre>LogisticRegression()</pre><b>In a Jupyter environment, please rerun this cell to show the HTML representation or trust the notebook. <br />On GitHub, the HTML representation is unable to render, please try loading this page with nbviewer.org.</b></div><div class=\"sk-container\" hidden><div class=\"sk-item\"><div class=\"sk-estimator sk-toggleable\"><input class=\"sk-toggleable__control sk-hidden--visually\" id=\"sk-estimator-id-1\" type=\"checkbox\" checked><label for=\"sk-estimator-id-1\" class=\"sk-toggleable__label sk-toggleable__label-arrow\">LogisticRegression</label><div class=\"sk-toggleable__content\"><pre>LogisticRegression()</pre></div></div></div></div></div>"
      ],
      "text/plain": [
       "LogisticRegression()"
      ]
     },
     "execution_count": 14,
     "metadata": {},
     "output_type": "execute_result"
    }
   ],
   "source": [
    "logisticRegr.fit(X_train, y_train)\n"
   ]
  },
  {
   "cell_type": "code",
   "execution_count": 15,
   "id": "39ace13a",
   "metadata": {},
   "outputs": [
    {
     "data": {
      "text/plain": [
       "0.7954390277208794"
      ]
     },
     "execution_count": 15,
     "metadata": {},
     "output_type": "execute_result"
    }
   ],
   "source": [
    "predictions = logisticRegr.predict(X_test)\n",
    "score = logisticRegr.score(X_test_official, y_test_official)\n",
    "score"
   ]
  },
  {
   "cell_type": "markdown",
   "id": "06f3a7be",
   "metadata": {},
   "source": [
    "#### KS & ROC"
   ]
  },
  {
   "cell_type": "code",
   "execution_count": 48,
   "id": "805c9cc6",
   "metadata": {},
   "outputs": [],
   "source": [
    "def run_preds(x):\n",
    "    prob_predictions = logisticRegr.predict_proba(x)\n",
    "    df = pd.DataFrame(prob_predictions)\n",
    "    df['p'] = df.max(axis=1)\n",
    "    df['y'] = df.idxmax(axis=1)\n",
    "    return df"
   ]
  },
  {
   "cell_type": "code",
   "execution_count": 30,
   "id": "749d5f87",
   "metadata": {},
   "outputs": [],
   "source": [
    "# Ref: https://www.listendata.com/2019/07/KS-Statistics-Python.html\n",
    "def ks(data=None,target=None, prob=None):\n",
    "    data['target0'] = 1 - data[target]\n",
    "    data['bucket'] = pd.qcut(data[prob], 20)\n",
    "    grouped = data.groupby('bucket', as_index = False)\n",
    "    kstable = pd.DataFrame()\n",
    "    kstable['min_prob'] = grouped.min()[prob]\n",
    "    kstable['max_prob'] = grouped.max()[prob]\n",
    "    kstable['events']   = grouped.sum()[target]\n",
    "    kstable['nonevents'] = grouped.sum()['target0']\n",
    "    kstable = kstable.sort_values(by=\"min_prob\", ascending=False).reset_index(drop = True)\n",
    "    kstable['event_rate'] = (kstable.events / data[target].sum()).apply('{0:.2%}'.format)\n",
    "    kstable['nonevent_rate'] = (kstable.nonevents / data['target0'].sum()).apply('{0:.2%}'.format)\n",
    "    kstable['cum_eventrate']=(kstable.events / data[target].sum()).cumsum()\n",
    "    kstable['cum_noneventrate']=(kstable.nonevents / data['target0'].sum()).cumsum()\n",
    "    kstable['KS'] = np.round(kstable['cum_eventrate']-kstable['cum_noneventrate'], 3) * 100\n",
    "\n",
    "    #Formating\n",
    "    kstable['cum_eventrate']= kstable['cum_eventrate'].apply('{0:.2%}'.format)\n",
    "    kstable['cum_noneventrate']= kstable['cum_noneventrate'].apply('{0:.2%}'.format)\n",
    "    kstable.index = range(1,21)\n",
    "    kstable.index.rename('Decile', inplace=True)\n",
    "    pd.set_option('display.max_columns', 100)\n",
    "    print(kstable)\n",
    "    \n",
    "    #Display KS\n",
    "    from colorama import Fore\n",
    "    print(Fore.RED + \"KS is \" + str(max(kstable['KS']))+\"%\"+ \" at decile \" + str((kstable.index[kstable['KS']==max(kstable['KS'])][0])))\n",
    "    return(kstable)\n",
    "\n"
   ]
  },
  {
   "cell_type": "code",
   "execution_count": 49,
   "id": "09a4cb3a",
   "metadata": {},
   "outputs": [],
   "source": [
    "from sklearn.metrics import roc_curve,roc_auc_score\n",
    "\n",
    "def plot_roc_curve(df): \n",
    "  fpr , tpr , thresholds = roc_curve( df.y , df.p)\n",
    "  auc_score=roc_auc_score(df.y , df.p) \n",
    "  plt.plot(fpr,tpr) \n",
    "  plt.axis([0,1,0,1]) \n",
    "  plt.text(x=.1,y=.8,s=\"ROC curve (area = %0.2f)\" % auc_score)\n",
    "  plt.xlabel('False Positive Rate') \n",
    "  plt.ylabel('True Positive Rate') \n",
    "  \n",
    "  plt.show() \n",
    "  "
   ]
  },
  {
   "cell_type": "markdown",
   "id": "cdaec8a5",
   "metadata": {},
   "source": [
    "#### Train"
   ]
  },
  {
   "cell_type": "code",
   "execution_count": 50,
   "id": "ab9effce",
   "metadata": {},
   "outputs": [],
   "source": [
    "df_train = run_preds(X_train)"
   ]
  },
  {
   "cell_type": "code",
   "execution_count": 51,
   "id": "d6042f39",
   "metadata": {},
   "outputs": [
    {
     "name": "stdout",
     "output_type": "stream",
     "text": [
      "        min_prob  max_prob  events  nonevents event_rate nonevent_rate cum_eventrate cum_noneventrate    KS\n",
      "Decile                                                                                                     \n",
      "1       0.915351  1.000000      60        699     10.05%         4.79%        10.05%            4.79%   5.3\n",
      "2       0.892839  0.915351       0        759      0.00%         5.20%        10.05%           10.00%   0.1\n",
      "3       0.881188  0.892797       6        753      1.01%         5.16%        11.06%           15.16%  -4.1\n",
      "4       0.874644  0.881182      20        739      3.35%         5.07%        14.41%           20.23%  -5.8\n",
      "5       0.870080  0.874636       1        758      0.17%         5.20%        14.57%           25.43% -10.9\n",
      "6       0.866848  0.870076       0        759      0.00%         5.20%        14.57%           30.63% -16.1\n",
      "7       0.864147  0.866848       3        756      0.50%         5.18%        15.08%           35.82% -20.7\n",
      "8       0.861336  0.864145       0        759      0.00%         5.20%        15.08%           41.02% -25.9\n",
      "9       0.858583  0.861336       0        759      0.00%         5.20%        15.08%           46.23% -31.1\n",
      "10      0.855827  0.858582       1        758      0.17%         5.20%        15.24%           51.42% -36.2\n",
      "11      0.853346  0.855826       0        759      0.00%         5.20%        15.24%           56.63% -41.4\n",
      "12      0.850867  0.853346       0        759      0.00%         5.20%        15.24%           61.83% -46.6\n",
      "13      0.848421  0.850865       0        759      0.00%         5.20%        15.24%           67.04% -51.8\n",
      "14      0.734346  0.848417     107        652     17.92%         4.47%        33.17%           71.51% -38.3\n",
      "15      0.640563  0.734336       8        751      1.34%         5.15%        34.51%           76.66% -42.2\n",
      "16      0.601485  0.640452     304        455     50.92%         3.12%        85.43%           79.78%   5.6\n",
      "17      0.584162  0.601472      52        707      8.71%         4.85%        94.14%           84.63%   9.5\n",
      "18      0.570771  0.584126      19        740      3.18%         5.07%        97.32%           89.70%   7.6\n",
      "19      0.563734  0.570771       2        757      0.34%         5.19%        97.65%           94.89%   2.8\n",
      "20      0.516213  0.563732      14        745      2.35%         5.11%       100.00%          100.00%   0.0\n",
      "\u001b[31mKS is 9.5% at decile 17\n"
     ]
    },
    {
     "data": {
      "text/html": [
       "<div>\n",
       "<style scoped>\n",
       "    .dataframe tbody tr th:only-of-type {\n",
       "        vertical-align: middle;\n",
       "    }\n",
       "\n",
       "    .dataframe tbody tr th {\n",
       "        vertical-align: top;\n",
       "    }\n",
       "\n",
       "    .dataframe thead th {\n",
       "        text-align: right;\n",
       "    }\n",
       "</style>\n",
       "<table border=\"1\" class=\"dataframe\">\n",
       "  <thead>\n",
       "    <tr style=\"text-align: right;\">\n",
       "      <th></th>\n",
       "      <th>min_prob</th>\n",
       "      <th>max_prob</th>\n",
       "      <th>events</th>\n",
       "      <th>nonevents</th>\n",
       "      <th>event_rate</th>\n",
       "      <th>nonevent_rate</th>\n",
       "      <th>cum_eventrate</th>\n",
       "      <th>cum_noneventrate</th>\n",
       "      <th>KS</th>\n",
       "    </tr>\n",
       "    <tr>\n",
       "      <th>Decile</th>\n",
       "      <th></th>\n",
       "      <th></th>\n",
       "      <th></th>\n",
       "      <th></th>\n",
       "      <th></th>\n",
       "      <th></th>\n",
       "      <th></th>\n",
       "      <th></th>\n",
       "      <th></th>\n",
       "    </tr>\n",
       "  </thead>\n",
       "  <tbody>\n",
       "    <tr>\n",
       "      <th>1</th>\n",
       "      <td>0.915351</td>\n",
       "      <td>1.000000</td>\n",
       "      <td>60</td>\n",
       "      <td>699</td>\n",
       "      <td>10.05%</td>\n",
       "      <td>4.79%</td>\n",
       "      <td>10.05%</td>\n",
       "      <td>4.79%</td>\n",
       "      <td>5.3</td>\n",
       "    </tr>\n",
       "    <tr>\n",
       "      <th>2</th>\n",
       "      <td>0.892839</td>\n",
       "      <td>0.915351</td>\n",
       "      <td>0</td>\n",
       "      <td>759</td>\n",
       "      <td>0.00%</td>\n",
       "      <td>5.20%</td>\n",
       "      <td>10.05%</td>\n",
       "      <td>10.00%</td>\n",
       "      <td>0.1</td>\n",
       "    </tr>\n",
       "    <tr>\n",
       "      <th>3</th>\n",
       "      <td>0.881188</td>\n",
       "      <td>0.892797</td>\n",
       "      <td>6</td>\n",
       "      <td>753</td>\n",
       "      <td>1.01%</td>\n",
       "      <td>5.16%</td>\n",
       "      <td>11.06%</td>\n",
       "      <td>15.16%</td>\n",
       "      <td>-4.1</td>\n",
       "    </tr>\n",
       "    <tr>\n",
       "      <th>4</th>\n",
       "      <td>0.874644</td>\n",
       "      <td>0.881182</td>\n",
       "      <td>20</td>\n",
       "      <td>739</td>\n",
       "      <td>3.35%</td>\n",
       "      <td>5.07%</td>\n",
       "      <td>14.41%</td>\n",
       "      <td>20.23%</td>\n",
       "      <td>-5.8</td>\n",
       "    </tr>\n",
       "    <tr>\n",
       "      <th>5</th>\n",
       "      <td>0.870080</td>\n",
       "      <td>0.874636</td>\n",
       "      <td>1</td>\n",
       "      <td>758</td>\n",
       "      <td>0.17%</td>\n",
       "      <td>5.20%</td>\n",
       "      <td>14.57%</td>\n",
       "      <td>25.43%</td>\n",
       "      <td>-10.9</td>\n",
       "    </tr>\n",
       "    <tr>\n",
       "      <th>6</th>\n",
       "      <td>0.866848</td>\n",
       "      <td>0.870076</td>\n",
       "      <td>0</td>\n",
       "      <td>759</td>\n",
       "      <td>0.00%</td>\n",
       "      <td>5.20%</td>\n",
       "      <td>14.57%</td>\n",
       "      <td>30.63%</td>\n",
       "      <td>-16.1</td>\n",
       "    </tr>\n",
       "    <tr>\n",
       "      <th>7</th>\n",
       "      <td>0.864147</td>\n",
       "      <td>0.866848</td>\n",
       "      <td>3</td>\n",
       "      <td>756</td>\n",
       "      <td>0.50%</td>\n",
       "      <td>5.18%</td>\n",
       "      <td>15.08%</td>\n",
       "      <td>35.82%</td>\n",
       "      <td>-20.7</td>\n",
       "    </tr>\n",
       "    <tr>\n",
       "      <th>8</th>\n",
       "      <td>0.861336</td>\n",
       "      <td>0.864145</td>\n",
       "      <td>0</td>\n",
       "      <td>759</td>\n",
       "      <td>0.00%</td>\n",
       "      <td>5.20%</td>\n",
       "      <td>15.08%</td>\n",
       "      <td>41.02%</td>\n",
       "      <td>-25.9</td>\n",
       "    </tr>\n",
       "    <tr>\n",
       "      <th>9</th>\n",
       "      <td>0.858583</td>\n",
       "      <td>0.861336</td>\n",
       "      <td>0</td>\n",
       "      <td>759</td>\n",
       "      <td>0.00%</td>\n",
       "      <td>5.20%</td>\n",
       "      <td>15.08%</td>\n",
       "      <td>46.23%</td>\n",
       "      <td>-31.1</td>\n",
       "    </tr>\n",
       "    <tr>\n",
       "      <th>10</th>\n",
       "      <td>0.855827</td>\n",
       "      <td>0.858582</td>\n",
       "      <td>1</td>\n",
       "      <td>758</td>\n",
       "      <td>0.17%</td>\n",
       "      <td>5.20%</td>\n",
       "      <td>15.24%</td>\n",
       "      <td>51.42%</td>\n",
       "      <td>-36.2</td>\n",
       "    </tr>\n",
       "    <tr>\n",
       "      <th>11</th>\n",
       "      <td>0.853346</td>\n",
       "      <td>0.855826</td>\n",
       "      <td>0</td>\n",
       "      <td>759</td>\n",
       "      <td>0.00%</td>\n",
       "      <td>5.20%</td>\n",
       "      <td>15.24%</td>\n",
       "      <td>56.63%</td>\n",
       "      <td>-41.4</td>\n",
       "    </tr>\n",
       "    <tr>\n",
       "      <th>12</th>\n",
       "      <td>0.850867</td>\n",
       "      <td>0.853346</td>\n",
       "      <td>0</td>\n",
       "      <td>759</td>\n",
       "      <td>0.00%</td>\n",
       "      <td>5.20%</td>\n",
       "      <td>15.24%</td>\n",
       "      <td>61.83%</td>\n",
       "      <td>-46.6</td>\n",
       "    </tr>\n",
       "    <tr>\n",
       "      <th>13</th>\n",
       "      <td>0.848421</td>\n",
       "      <td>0.850865</td>\n",
       "      <td>0</td>\n",
       "      <td>759</td>\n",
       "      <td>0.00%</td>\n",
       "      <td>5.20%</td>\n",
       "      <td>15.24%</td>\n",
       "      <td>67.04%</td>\n",
       "      <td>-51.8</td>\n",
       "    </tr>\n",
       "    <tr>\n",
       "      <th>14</th>\n",
       "      <td>0.734346</td>\n",
       "      <td>0.848417</td>\n",
       "      <td>107</td>\n",
       "      <td>652</td>\n",
       "      <td>17.92%</td>\n",
       "      <td>4.47%</td>\n",
       "      <td>33.17%</td>\n",
       "      <td>71.51%</td>\n",
       "      <td>-38.3</td>\n",
       "    </tr>\n",
       "    <tr>\n",
       "      <th>15</th>\n",
       "      <td>0.640563</td>\n",
       "      <td>0.734336</td>\n",
       "      <td>8</td>\n",
       "      <td>751</td>\n",
       "      <td>1.34%</td>\n",
       "      <td>5.15%</td>\n",
       "      <td>34.51%</td>\n",
       "      <td>76.66%</td>\n",
       "      <td>-42.2</td>\n",
       "    </tr>\n",
       "    <tr>\n",
       "      <th>16</th>\n",
       "      <td>0.601485</td>\n",
       "      <td>0.640452</td>\n",
       "      <td>304</td>\n",
       "      <td>455</td>\n",
       "      <td>50.92%</td>\n",
       "      <td>3.12%</td>\n",
       "      <td>85.43%</td>\n",
       "      <td>79.78%</td>\n",
       "      <td>5.6</td>\n",
       "    </tr>\n",
       "    <tr>\n",
       "      <th>17</th>\n",
       "      <td>0.584162</td>\n",
       "      <td>0.601472</td>\n",
       "      <td>52</td>\n",
       "      <td>707</td>\n",
       "      <td>8.71%</td>\n",
       "      <td>4.85%</td>\n",
       "      <td>94.14%</td>\n",
       "      <td>84.63%</td>\n",
       "      <td>9.5</td>\n",
       "    </tr>\n",
       "    <tr>\n",
       "      <th>18</th>\n",
       "      <td>0.570771</td>\n",
       "      <td>0.584126</td>\n",
       "      <td>19</td>\n",
       "      <td>740</td>\n",
       "      <td>3.18%</td>\n",
       "      <td>5.07%</td>\n",
       "      <td>97.32%</td>\n",
       "      <td>89.70%</td>\n",
       "      <td>7.6</td>\n",
       "    </tr>\n",
       "    <tr>\n",
       "      <th>19</th>\n",
       "      <td>0.563734</td>\n",
       "      <td>0.570771</td>\n",
       "      <td>2</td>\n",
       "      <td>757</td>\n",
       "      <td>0.34%</td>\n",
       "      <td>5.19%</td>\n",
       "      <td>97.65%</td>\n",
       "      <td>94.89%</td>\n",
       "      <td>2.8</td>\n",
       "    </tr>\n",
       "    <tr>\n",
       "      <th>20</th>\n",
       "      <td>0.516213</td>\n",
       "      <td>0.563732</td>\n",
       "      <td>14</td>\n",
       "      <td>745</td>\n",
       "      <td>2.35%</td>\n",
       "      <td>5.11%</td>\n",
       "      <td>100.00%</td>\n",
       "      <td>100.00%</td>\n",
       "      <td>0.0</td>\n",
       "    </tr>\n",
       "  </tbody>\n",
       "</table>\n",
       "</div>"
      ],
      "text/plain": [
       "        min_prob  max_prob  events  nonevents event_rate nonevent_rate cum_eventrate cum_noneventrate    KS\n",
       "Decile                                                                                                     \n",
       "1       0.915351  1.000000      60        699     10.05%         4.79%        10.05%            4.79%   5.3\n",
       "2       0.892839  0.915351       0        759      0.00%         5.20%        10.05%           10.00%   0.1\n",
       "3       0.881188  0.892797       6        753      1.01%         5.16%        11.06%           15.16%  -4.1\n",
       "4       0.874644  0.881182      20        739      3.35%         5.07%        14.41%           20.23%  -5.8\n",
       "5       0.870080  0.874636       1        758      0.17%         5.20%        14.57%           25.43% -10.9\n",
       "6       0.866848  0.870076       0        759      0.00%         5.20%        14.57%           30.63% -16.1\n",
       "7       0.864147  0.866848       3        756      0.50%         5.18%        15.08%           35.82% -20.7\n",
       "8       0.861336  0.864145       0        759      0.00%         5.20%        15.08%           41.02% -25.9\n",
       "9       0.858583  0.861336       0        759      0.00%         5.20%        15.08%           46.23% -31.1\n",
       "10      0.855827  0.858582       1        758      0.17%         5.20%        15.24%           51.42% -36.2\n",
       "11      0.853346  0.855826       0        759      0.00%         5.20%        15.24%           56.63% -41.4\n",
       "12      0.850867  0.853346       0        759      0.00%         5.20%        15.24%           61.83% -46.6\n",
       "13      0.848421  0.850865       0        759      0.00%         5.20%        15.24%           67.04% -51.8\n",
       "14      0.734346  0.848417     107        652     17.92%         4.47%        33.17%           71.51% -38.3\n",
       "15      0.640563  0.734336       8        751      1.34%         5.15%        34.51%           76.66% -42.2\n",
       "16      0.601485  0.640452     304        455     50.92%         3.12%        85.43%           79.78%   5.6\n",
       "17      0.584162  0.601472      52        707      8.71%         4.85%        94.14%           84.63%   9.5\n",
       "18      0.570771  0.584126      19        740      3.18%         5.07%        97.32%           89.70%   7.6\n",
       "19      0.563734  0.570771       2        757      0.34%         5.19%        97.65%           94.89%   2.8\n",
       "20      0.516213  0.563732      14        745      2.35%         5.11%       100.00%          100.00%   0.0"
      ]
     },
     "execution_count": 51,
     "metadata": {},
     "output_type": "execute_result"
    }
   ],
   "source": [
    "ks(data=df_train,target=\"y\", prob=\"p\")\n"
   ]
  },
  {
   "cell_type": "code",
   "execution_count": 52,
   "id": "0e432056",
   "metadata": {},
   "outputs": [
    {
     "data": {
      "image/png": "[encoded data removed]",
      "text/plain": [
       "<Figure size 432x288 with 1 Axes>"
      ]
     },
     "metadata": {
      "needs_background": "light"
     },
     "output_type": "display_data"
    }
   ],
   "source": [
    "\n",
    "plot_roc_curve (df_train) \n"
   ]
  },
  {
   "cell_type": "markdown",
   "id": "cdaec8a5",
   "metadata": {},
   "source": [
    "#### Test"
   ]
  },
  {
   "cell_type": "code",
   "execution_count": 53,
   "id": "ab9effce",
   "metadata": {},
   "outputs": [],
   "source": [
    "df_test = run_preds(X_test)"
   ]
  },
  {
   "cell_type": "code",
   "execution_count": 54,
   "id": "d6042f39",
   "metadata": {},
   "outputs": [
    {
     "name": "stdout",
     "output_type": "stream",
     "text": [
      "        min_prob  max_prob  events  nonevents event_rate nonevent_rate cum_eventrate cum_noneventrate    KS\n",
      "Decile                                                                                                     \n",
      "1       0.915370  1.000000      25        342      8.36%         4.87%         8.36%            4.87%   3.5\n",
      "2       0.892517  0.915244       0        366      0.00%         5.21%         8.36%           10.08%  -1.7\n",
      "3       0.881093  0.892509       3        363      1.00%         5.17%         9.36%           15.25%  -5.9\n",
      "4       0.874785  0.881093       9        357      3.01%         5.08%        12.37%           20.33%  -8.0\n",
      "5       0.870485  0.874760       1        365      0.33%         5.20%        12.71%           25.53% -12.8\n",
      "6       0.867156  0.870478       1        365      0.33%         5.20%        13.04%           30.72% -17.7\n",
      "7       0.864232  0.867148       1        365      0.33%         5.20%        13.38%           35.92% -22.5\n",
      "8       0.861305  0.864216       0        366      0.00%         5.21%        13.38%           41.13% -27.8\n",
      "9       0.858384  0.861301       0        366      0.00%         5.21%        13.38%           46.34% -33.0\n",
      "10      0.855621  0.858372       0        366      0.00%         5.21%        13.38%           51.55% -38.2\n",
      "11      0.853021  0.855610       1        366      0.33%         5.21%        13.71%           56.76% -43.1\n",
      "12      0.850539  0.853017       1        365      0.33%         5.20%        14.05%           61.96% -47.9\n",
      "13      0.848126  0.850526       0        366      0.00%         5.21%        14.05%           67.17% -53.1\n",
      "14      0.730444  0.848119      49        317     16.39%         4.51%        30.43%           71.68% -41.2\n",
      "15      0.626021  0.730433      33        333     11.04%         4.74%        41.47%           76.42% -35.0\n",
      "16      0.598054  0.625889     134        232     44.82%         3.30%        86.29%           79.73%   6.6\n",
      "17      0.583517  0.597970      24        342      8.03%         4.87%        94.31%           84.60%   9.7\n",
      "18      0.570210  0.583495       8        358      2.68%         5.10%        96.99%           89.69%   7.3\n",
      "19      0.563487  0.570196       1        365      0.33%         5.20%        97.32%           94.89%   2.4\n",
      "20      0.500024  0.563477       8        359      2.68%         5.11%       100.00%          100.00%   0.0\n",
      "\u001b[31mKS is 9.700000000000001% at decile 17\n"
     ]
    },
    {
     "data": {
      "text/html": [
       "<div>\n",
       "<style scoped>\n",
       "    .dataframe tbody tr th:only-of-type {\n",
       "        vertical-align: middle;\n",
       "    }\n",
       "\n",
       "    .dataframe tbody tr th {\n",
       "        vertical-align: top;\n",
       "    }\n",
       "\n",
       "    .dataframe thead th {\n",
       "        text-align: right;\n",
       "    }\n",
       "</style>\n",
       "<table border=\"1\" class=\"dataframe\">\n",
       "  <thead>\n",
       "    <tr style=\"text-align: right;\">\n",
       "      <th></th>\n",
       "      <th>min_prob</th>\n",
       "      <th>max_prob</th>\n",
       "      <th>events</th>\n",
       "      <th>nonevents</th>\n",
       "      <th>event_rate</th>\n",
       "      <th>nonevent_rate</th>\n",
       "      <th>cum_eventrate</th>\n",
       "      <th>cum_noneventrate</th>\n",
       "      <th>KS</th>\n",
       "    </tr>\n",
       "    <tr>\n",
       "      <th>Decile</th>\n",
       "      <th></th>\n",
       "      <th></th>\n",
       "      <th></th>\n",
       "      <th></th>\n",
       "      <th></th>\n",
       "      <th></th>\n",
       "      <th></th>\n",
       "      <th></th>\n",
       "      <th></th>\n",
       "    </tr>\n",
       "  </thead>\n",
       "  <tbody>\n",
       "    <tr>\n",
       "      <th>1</th>\n",
       "      <td>0.915370</td>\n",
       "      <td>1.000000</td>\n",
       "      <td>25</td>\n",
       "      <td>342</td>\n",
       "      <td>8.36%</td>\n",
       "      <td>4.87%</td>\n",
       "      <td>8.36%</td>\n",
       "      <td>4.87%</td>\n",
       "      <td>3.5</td>\n",
       "    </tr>\n",
       "    <tr>\n",
       "      <th>2</th>\n",
       "      <td>0.892517</td>\n",
       "      <td>0.915244</td>\n",
       "      <td>0</td>\n",
       "      <td>366</td>\n",
       "      <td>0.00%</td>\n",
       "      <td>5.21%</td>\n",
       "      <td>8.36%</td>\n",
       "      <td>10.08%</td>\n",
       "      <td>-1.7</td>\n",
       "    </tr>\n",
       "    <tr>\n",
       "      <th>3</th>\n",
       "      <td>0.881093</td>\n",
       "      <td>0.892509</td>\n",
       "      <td>3</td>\n",
       "      <td>363</td>\n",
       "      <td>1.00%</td>\n",
       "      <td>5.17%</td>\n",
       "      <td>9.36%</td>\n",
       "      <td>15.25%</td>\n",
       "      <td>-5.9</td>\n",
       "    </tr>\n",
       "    <tr>\n",
       "      <th>4</th>\n",
       "      <td>0.874785</td>\n",
       "      <td>0.881093</td>\n",
       "      <td>9</td>\n",
       "      <td>357</td>\n",
       "      <td>3.01%</td>\n",
       "      <td>5.08%</td>\n",
       "      <td>12.37%</td>\n",
       "      <td>20.33%</td>\n",
       "      <td>-8.0</td>\n",
       "    </tr>\n",
       "    <tr>\n",
       "      <th>5</th>\n",
       "      <td>0.870485</td>\n",
       "      <td>0.874760</td>\n",
       "      <td>1</td>\n",
       "      <td>365</td>\n",
       "      <td>0.33%</td>\n",
       "      <td>5.20%</td>\n",
       "      <td>12.71%</td>\n",
       "      <td>25.53%</td>\n",
       "      <td>-12.8</td>\n",
       "    </tr>\n",
       "    <tr>\n",
       "      <th>6</th>\n",
       "      <td>0.867156</td>\n",
       "      <td>0.870478</td>\n",
       "      <td>1</td>\n",
       "      <td>365</td>\n",
       "      <td>0.33%</td>\n",
       "      <td>5.20%</td>\n",
       "      <td>13.04%</td>\n",
       "      <td>30.72%</td>\n",
       "      <td>-17.7</td>\n",
       "    </tr>\n",
       "    <tr>\n",
       "      <th>7</th>\n",
       "      <td>0.864232</td>\n",
       "      <td>0.867148</td>\n",
       "      <td>1</td>\n",
       "      <td>365</td>\n",
       "      <td>0.33%</td>\n",
       "      <td>5.20%</td>\n",
       "      <td>13.38%</td>\n",
       "      <td>35.92%</td>\n",
       "      <td>-22.5</td>\n",
       "    </tr>\n",
       "    <tr>\n",
       "      <th>8</th>\n",
       "      <td>0.861305</td>\n",
       "      <td>0.864216</td>\n",
       "      <td>0</td>\n",
       "      <td>366</td>\n",
       "      <td>0.00%</td>\n",
       "      <td>5.21%</td>\n",
       "      <td>13.38%</td>\n",
       "      <td>41.13%</td>\n",
       "      <td>-27.8</td>\n",
       "    </tr>\n",
       "    <tr>\n",
       "      <th>9</th>\n",
       "      <td>0.858384</td>\n",
       "      <td>0.861301</td>\n",
       "      <td>0</td>\n",
       "      <td>366</td>\n",
       "      <td>0.00%</td>\n",
       "      <td>5.21%</td>\n",
       "      <td>13.38%</td>\n",
       "      <td>46.34%</td>\n",
       "      <td>-33.0</td>\n",
       "    </tr>\n",
       "    <tr>\n",
       "      <th>10</th>\n",
       "      <td>0.855621</td>\n",
       "      <td>0.858372</td>\n",
       "      <td>0</td>\n",
       "      <td>366</td>\n",
       "      <td>0.00%</td>\n",
       "      <td>5.21%</td>\n",
       "      <td>13.38%</td>\n",
       "      <td>51.55%</td>\n",
       "      <td>-38.2</td>\n",
       "    </tr>\n",
       "    <tr>\n",
       "      <th>11</th>\n",
       "      <td>0.853021</td>\n",
       "      <td>0.855610</td>\n",
       "      <td>1</td>\n",
       "      <td>366</td>\n",
       "      <td>0.33%</td>\n",
       "      <td>5.21%</td>\n",
       "      <td>13.71%</td>\n",
       "      <td>56.76%</td>\n",
       "      <td>-43.1</td>\n",
       "    </tr>\n",
       "    <tr>\n",
       "      <th>12</th>\n",
       "      <td>0.850539</td>\n",
       "      <td>0.853017</td>\n",
       "      <td>1</td>\n",
       "      <td>365</td>\n",
       "      <td>0.33%</td>\n",
       "      <td>5.20%</td>\n",
       "      <td>14.05%</td>\n",
       "      <td>61.96%</td>\n",
       "      <td>-47.9</td>\n",
       "    </tr>\n",
       "    <tr>\n",
       "      <th>13</th>\n",
       "      <td>0.848126</td>\n",
       "      <td>0.850526</td>\n",
       "      <td>0</td>\n",
       "      <td>366</td>\n",
       "      <td>0.00%</td>\n",
       "      <td>5.21%</td>\n",
       "      <td>14.05%</td>\n",
       "      <td>67.17%</td>\n",
       "      <td>-53.1</td>\n",
       "    </tr>\n",
       "    <tr>\n",
       "      <th>14</th>\n",
       "      <td>0.730444</td>\n",
       "      <td>0.848119</td>\n",
       "      <td>49</td>\n",
       "      <td>317</td>\n",
       "      <td>16.39%</td>\n",
       "      <td>4.51%</td>\n",
       "      <td>30.43%</td>\n",
       "      <td>71.68%</td>\n",
       "      <td>-41.2</td>\n",
       "    </tr>\n",
       "    <tr>\n",
       "      <th>15</th>\n",
       "      <td>0.626021</td>\n",
       "      <td>0.730433</td>\n",
       "      <td>33</td>\n",
       "      <td>333</td>\n",
       "      <td>11.04%</td>\n",
       "      <td>4.74%</td>\n",
       "      <td>41.47%</td>\n",
       "      <td>76.42%</td>\n",
       "      <td>-35.0</td>\n",
       "    </tr>\n",
       "    <tr>\n",
       "      <th>16</th>\n",
       "      <td>0.598054</td>\n",
       "      <td>0.625889</td>\n",
       "      <td>134</td>\n",
       "      <td>232</td>\n",
       "      <td>44.82%</td>\n",
       "      <td>3.30%</td>\n",
       "      <td>86.29%</td>\n",
       "      <td>79.73%</td>\n",
       "      <td>6.6</td>\n",
       "    </tr>\n",
       "    <tr>\n",
       "      <th>17</th>\n",
       "      <td>0.583517</td>\n",
       "      <td>0.597970</td>\n",
       "      <td>24</td>\n",
       "      <td>342</td>\n",
       "      <td>8.03%</td>\n",
       "      <td>4.87%</td>\n",
       "      <td>94.31%</td>\n",
       "      <td>84.60%</td>\n",
       "      <td>9.7</td>\n",
       "    </tr>\n",
       "    <tr>\n",
       "      <th>18</th>\n",
       "      <td>0.570210</td>\n",
       "      <td>0.583495</td>\n",
       "      <td>8</td>\n",
       "      <td>358</td>\n",
       "      <td>2.68%</td>\n",
       "      <td>5.10%</td>\n",
       "      <td>96.99%</td>\n",
       "      <td>89.69%</td>\n",
       "      <td>7.3</td>\n",
       "    </tr>\n",
       "    <tr>\n",
       "      <th>19</th>\n",
       "      <td>0.563487</td>\n",
       "      <td>0.570196</td>\n",
       "      <td>1</td>\n",
       "      <td>365</td>\n",
       "      <td>0.33%</td>\n",
       "      <td>5.20%</td>\n",
       "      <td>97.32%</td>\n",
       "      <td>94.89%</td>\n",
       "      <td>2.4</td>\n",
       "    </tr>\n",
       "    <tr>\n",
       "      <th>20</th>\n",
       "      <td>0.500024</td>\n",
       "      <td>0.563477</td>\n",
       "      <td>8</td>\n",
       "      <td>359</td>\n",
       "      <td>2.68%</td>\n",
       "      <td>5.11%</td>\n",
       "      <td>100.00%</td>\n",
       "      <td>100.00%</td>\n",
       "      <td>0.0</td>\n",
       "    </tr>\n",
       "  </tbody>\n",
       "</table>\n",
       "</div>"
      ],
      "text/plain": [
       "        min_prob  max_prob  events  nonevents event_rate nonevent_rate cum_eventrate cum_noneventrate    KS\n",
       "Decile                                                                                                     \n",
       "1       0.915370  1.000000      25        342      8.36%         4.87%         8.36%            4.87%   3.5\n",
       "2       0.892517  0.915244       0        366      0.00%         5.21%         8.36%           10.08%  -1.7\n",
       "3       0.881093  0.892509       3        363      1.00%         5.17%         9.36%           15.25%  -5.9\n",
       "4       0.874785  0.881093       9        357      3.01%         5.08%        12.37%           20.33%  -8.0\n",
       "5       0.870485  0.874760       1        365      0.33%         5.20%        12.71%           25.53% -12.8\n",
       "6       0.867156  0.870478       1        365      0.33%         5.20%        13.04%           30.72% -17.7\n",
       "7       0.864232  0.867148       1        365      0.33%         5.20%        13.38%           35.92% -22.5\n",
       "8       0.861305  0.864216       0        366      0.00%         5.21%        13.38%           41.13% -27.8\n",
       "9       0.858384  0.861301       0        366      0.00%         5.21%        13.38%           46.34% -33.0\n",
       "10      0.855621  0.858372       0        366      0.00%         5.21%        13.38%           51.55% -38.2\n",
       "11      0.853021  0.855610       1        366      0.33%         5.21%        13.71%           56.76% -43.1\n",
       "12      0.850539  0.853017       1        365      0.33%         5.20%        14.05%           61.96% -47.9\n",
       "13      0.848126  0.850526       0        366      0.00%         5.21%        14.05%           67.17% -53.1\n",
       "14      0.730444  0.848119      49        317     16.39%         4.51%        30.43%           71.68% -41.2\n",
       "15      0.626021  0.730433      33        333     11.04%         4.74%        41.47%           76.42% -35.0\n",
       "16      0.598054  0.625889     134        232     44.82%         3.30%        86.29%           79.73%   6.6\n",
       "17      0.583517  0.597970      24        342      8.03%         4.87%        94.31%           84.60%   9.7\n",
       "18      0.570210  0.583495       8        358      2.68%         5.10%        96.99%           89.69%   7.3\n",
       "19      0.563487  0.570196       1        365      0.33%         5.20%        97.32%           94.89%   2.4\n",
       "20      0.500024  0.563477       8        359      2.68%         5.11%       100.00%          100.00%   0.0"
      ]
     },
     "execution_count": 54,
     "metadata": {},
     "output_type": "execute_result"
    }
   ],
   "source": [
    "ks(data=df_test,target=\"y\", prob=\"p\")\n"
   ]
  },
  {
   "cell_type": "code",
   "execution_count": 55,
   "id": "0e432056",
   "metadata": {},
   "outputs": [
    {
     "data": {
      "image/png": "[encoded data removed]",
      "text/plain": [
       "<Figure size 432x288 with 1 Axes>"
      ]
     },
     "metadata": {
      "needs_background": "light"
     },
     "output_type": "display_data"
    }
   ],
   "source": [
    "\n",
    "plot_roc_curve (df_test) \n"
   ]
  },
  {
   "cell_type": "markdown",
   "id": "e30ffe7e",
   "metadata": {},
   "source": [
    "### more modeling"
   ]
  },
  {
   "cell_type": "code",
   "execution_count": null,
   "id": "c02934ba",
   "metadata": {},
   "outputs": [
    {
     "data": {
      "text/plain": [
       "<seaborn.axisgrid.FacetGrid at 0x1d68c58bfa0>"
      ]
     },
     "metadata": {},
     "output_type": "display_data"
    },
    {
     "data": {
      "image/png": "[encoded data removed]",
      "text/plain": [
       "<Figure size 421.8x360 with 1 Axes>"
      ]
     },
     "metadata": {},
     "output_type": "display_data"
    }
   ],
   "source": [
    "\n",
    "sns.catplot(x='age_bins',y='util_avg', hue='DEFAULT', kind=\"box\", data=credit_card_default_red, ci=None)\n"
   ]
  },
  {
   "cell_type": "code",
   "execution_count": 35,
   "id": "41dff380",
   "metadata": {},
   "outputs": [
    {
     "data": {
      "text/html": [
       "<div>\n",
       "<style scoped>\n",
       "    .dataframe tbody tr th:only-of-type {\n",
       "        vertical-align: middle;\n",
       "    }\n",
       "\n",
       "    .dataframe tbody tr th {\n",
       "        vertical-align: top;\n",
       "    }\n",
       "\n",
       "    .dataframe thead th {\n",
       "        text-align: right;\n",
       "    }\n",
       "</style>\n",
       "<table border=\"1\" class=\"dataframe\">\n",
       "  <thead>\n",
       "    <tr style=\"text-align: right;\">\n",
       "      <th></th>\n",
       "      <th>precision</th>\n",
       "      <th>recall</th>\n",
       "      <th>f1-score</th>\n",
       "      <th>support</th>\n",
       "    </tr>\n",
       "  </thead>\n",
       "  <tbody>\n",
       "    <tr>\n",
       "      <th>0</th>\n",
       "      <td>0.80</td>\n",
       "      <td>0.98</td>\n",
       "      <td>0.88</td>\n",
       "      <td>5766.0</td>\n",
       "    </tr>\n",
       "    <tr>\n",
       "      <th>1</th>\n",
       "      <td>0.60</td>\n",
       "      <td>0.11</td>\n",
       "      <td>0.19</td>\n",
       "      <td>1557.0</td>\n",
       "    </tr>\n",
       "    <tr>\n",
       "      <th>accuracy</th>\n",
       "      <td>0.80</td>\n",
       "      <td>0.80</td>\n",
       "      <td>0.80</td>\n",
       "      <td>0.8</td>\n",
       "    </tr>\n",
       "    <tr>\n",
       "      <th>macro avg</th>\n",
       "      <td>0.70</td>\n",
       "      <td>0.55</td>\n",
       "      <td>0.54</td>\n",
       "      <td>7323.0</td>\n",
       "    </tr>\n",
       "    <tr>\n",
       "      <th>weighted avg</th>\n",
       "      <td>0.76</td>\n",
       "      <td>0.80</td>\n",
       "      <td>0.74</td>\n",
       "      <td>7323.0</td>\n",
       "    </tr>\n",
       "  </tbody>\n",
       "</table>\n",
       "</div>"
      ],
      "text/plain": [
       "              precision  recall  f1-score  support\n",
       "0                  0.80    0.98      0.88   5766.0\n",
       "1                  0.60    0.11      0.19   1557.0\n",
       "accuracy           0.80    0.80      0.80      0.8\n",
       "macro avg          0.70    0.55      0.54   7323.0\n",
       "weighted avg       0.76    0.80      0.74   7323.0"
      ]
     },
     "metadata": {},
     "output_type": "display_data"
    },
    {
     "name": "stdout",
     "output_type": "stream",
     "text": [
      "[[5646  120]\n",
      " [1378  179]]\n"
     ]
    },
    {
     "data": {
      "image/png": "[encoded data removed]",
      "text/plain": [
       "<Figure size 648x648 with 2 Axes>"
      ]
     },
     "metadata": {
      "needs_background": "light"
     },
     "output_type": "display_data"
    }
   ],
   "source": [
    "# Ref: https://medium.com/analytics-vidhya/evaluating-a-random-forest-model-9d165595ad56\n",
    "from sklearn.metrics import accuracy_score, confusion_matrix, classification_report\n",
    "predictions = logisticRegr.predict(X_test)\n",
    "score = logisticRegr.score(X_test, y_test)\n",
    "# print(classification_report(y_test, predictions))\n",
    "report = classification_report(y_test, predictions, output_dict=True)\n",
    "df = pd.DataFrame(report).transpose()\n",
    "display(df.round(2))\n",
    "\n",
    "cm = confusion_matrix(y_test, predictions)\n",
    "print(cm)\n",
    "\n",
    "plt.figure(figsize=(9,9))\n",
    "sns.heatmap(cm, annot=True, fmt=\".3f\", linewidths=.5, square = True, cmap = 'Blues_r');\n",
    "plt.ylabel('Actual label');\n",
    "plt.xlabel('Predicted label');\n",
    "all_sample_title = 'Accuracy Score: {0}'.format(score)\n",
    "plt.title(all_sample_title, size = 15);\n"
   ]
  },
  {
   "cell_type": "code",
   "execution_count": 36,
   "id": "67001b12",
   "metadata": {},
   "outputs": [
    {
     "name": "stdout",
     "output_type": "stream",
     "text": [
      "[[5646  120]\n",
      " [1378  179]]\n"
     ]
    },
    {
     "data": {
      "image/png": "[encoded data removed]",
      "text/plain": [
       "<Figure size 648x648 with 2 Axes>"
      ]
     },
     "metadata": {
      "needs_background": "light"
     },
     "output_type": "display_data"
    }
   ],
   "source": [
    "cm = metrics.confusion_matrix(y_test, predictions)\n",
    "print(cm)\n",
    "\n",
    "plt.figure(figsize=(9,9))\n",
    "sns.heatmap(cm, annot=True, fmt=\".3f\", linewidths=.5, square = True, cmap = 'Blues_r');\n",
    "plt.ylabel('Actual label');\n",
    "plt.xlabel('Predicted label');\n",
    "all_sample_title = 'Accuracy Score: {0}'.format(score)\n",
    "plt.title(all_sample_title, size = 15);\n"
   ]
  },
  {
   "cell_type": "markdown",
   "id": "c1423a0b",
   "metadata": {},
   "source": [
    "review imbalance  \n",
    "source: https://machinelearningmastery.com/cost-sensitive-logistic-regression/"
   ]
  },
  {
   "cell_type": "code",
   "execution_count": 37,
   "id": "f9f33393",
   "metadata": {},
   "outputs": [
    {
     "name": "stdout",
     "output_type": "stream",
     "text": [
      "Counter({0: 23364, 1: 6636})\n"
     ]
    }
   ],
   "source": [
    "from collections import Counter\n",
    "from sklearn.datasets import make_classification\n",
    "from numpy import where\n",
    "\n",
    "# summarize class distribution\n",
    "counter = Counter(y)\n",
    "print(counter)"
   ]
  },
  {
   "cell_type": "code",
   "execution_count": 38,
   "id": "dcea8c32",
   "metadata": {},
   "outputs": [
    {
     "ename": "InvalidIndexError",
     "evalue": "(array([    0,     1,    13, ..., 29997, 29998, 29999], dtype=int64), 0)",
     "output_type": "error",
     "traceback": [
      "\u001b[1;31m---------------------------------------------------------------------------\u001b[0m",
      "\u001b[1;31mTypeError\u001b[0m                                 Traceback (most recent call last)",
      "File \u001b[1;32mc:\\Users\\steve\\miniconda3\\envs\\sklearn\\lib\\site-packages\\pandas\\core\\indexes\\base.py:3621\u001b[0m, in \u001b[0;36mIndex.get_loc\u001b[1;34m(self, key, method, tolerance)\u001b[0m\n\u001b[0;32m   3620\u001b[0m \u001b[39mtry\u001b[39;00m:\n\u001b[1;32m-> 3621\u001b[0m     \u001b[39mreturn\u001b[39;00m \u001b[39mself\u001b[39;49m\u001b[39m.\u001b[39;49m_engine\u001b[39m.\u001b[39;49mget_loc(casted_key)\n\u001b[0;32m   3622\u001b[0m \u001b[39mexcept\u001b[39;00m \u001b[39mKeyError\u001b[39;00m \u001b[39mas\u001b[39;00m err:\n",
      "File \u001b[1;32mc:\\Users\\steve\\miniconda3\\envs\\sklearn\\lib\\site-packages\\pandas\\_libs\\index.pyx:136\u001b[0m, in \u001b[0;36mpandas._libs.index.IndexEngine.get_loc\u001b[1;34m()\u001b[0m\n",
      "File \u001b[1;32mc:\\Users\\steve\\miniconda3\\envs\\sklearn\\lib\\site-packages\\pandas\\_libs\\index.pyx:142\u001b[0m, in \u001b[0;36mpandas._libs.index.IndexEngine.get_loc\u001b[1;34m()\u001b[0m\n",
      "\u001b[1;31mTypeError\u001b[0m: '(array([    0,     1,    13, ..., 29997, 29998, 29999], dtype=int64), 0)' is an invalid key",
      "\nDuring handling of the above exception, another exception occurred:\n",
      "\u001b[1;31mInvalidIndexError\u001b[0m                         Traceback (most recent call last)",
      "\u001b[1;32mc:\\Users\\steve\\gits\\nw-msds498\\04d3 - required models - LogReg.ipynb Cell 23\u001b[0m in \u001b[0;36m<cell line: 2>\u001b[1;34m()\u001b[0m\n\u001b[0;32m      <a href='vscode-notebook-cell:/c%3A/Users/steve/gits/nw-msds498/04d3%20-%20required%20models%20-%20LogReg.ipynb#X31sZmlsZQ%3D%3D?line=1'>2</a>\u001b[0m \u001b[39mfor\u001b[39;00m label, _ \u001b[39min\u001b[39;00m counter\u001b[39m.\u001b[39mitems():\n\u001b[0;32m      <a href='vscode-notebook-cell:/c%3A/Users/steve/gits/nw-msds498/04d3%20-%20required%20models%20-%20LogReg.ipynb#X31sZmlsZQ%3D%3D?line=2'>3</a>\u001b[0m \trow_ix \u001b[39m=\u001b[39m where(y \u001b[39m==\u001b[39m label)[\u001b[39m0\u001b[39m]\n\u001b[1;32m----> <a href='vscode-notebook-cell:/c%3A/Users/steve/gits/nw-msds498/04d3%20-%20required%20models%20-%20LogReg.ipynb#X31sZmlsZQ%3D%3D?line=3'>4</a>\u001b[0m \tplt\u001b[39m.\u001b[39mscatter(X[row_ix, \u001b[39m0\u001b[39;49m], X[row_ix, \u001b[39m1\u001b[39m], label\u001b[39m=\u001b[39m\u001b[39mstr\u001b[39m(label))\n\u001b[0;32m      <a href='vscode-notebook-cell:/c%3A/Users/steve/gits/nw-msds498/04d3%20-%20required%20models%20-%20LogReg.ipynb#X31sZmlsZQ%3D%3D?line=4'>5</a>\u001b[0m plt\u001b[39m.\u001b[39mlegend()\n\u001b[0;32m      <a href='vscode-notebook-cell:/c%3A/Users/steve/gits/nw-msds498/04d3%20-%20required%20models%20-%20LogReg.ipynb#X31sZmlsZQ%3D%3D?line=5'>6</a>\u001b[0m plt\u001b[39m.\u001b[39mshow()\n",
      "File \u001b[1;32mc:\\Users\\steve\\miniconda3\\envs\\sklearn\\lib\\site-packages\\pandas\\core\\frame.py:3505\u001b[0m, in \u001b[0;36mDataFrame.__getitem__\u001b[1;34m(self, key)\u001b[0m\n\u001b[0;32m   3503\u001b[0m \u001b[39mif\u001b[39;00m \u001b[39mself\u001b[39m\u001b[39m.\u001b[39mcolumns\u001b[39m.\u001b[39mnlevels \u001b[39m>\u001b[39m \u001b[39m1\u001b[39m:\n\u001b[0;32m   3504\u001b[0m     \u001b[39mreturn\u001b[39;00m \u001b[39mself\u001b[39m\u001b[39m.\u001b[39m_getitem_multilevel(key)\n\u001b[1;32m-> 3505\u001b[0m indexer \u001b[39m=\u001b[39m \u001b[39mself\u001b[39;49m\u001b[39m.\u001b[39;49mcolumns\u001b[39m.\u001b[39;49mget_loc(key)\n\u001b[0;32m   3506\u001b[0m \u001b[39mif\u001b[39;00m is_integer(indexer):\n\u001b[0;32m   3507\u001b[0m     indexer \u001b[39m=\u001b[39m [indexer]\n",
      "File \u001b[1;32mc:\\Users\\steve\\miniconda3\\envs\\sklearn\\lib\\site-packages\\pandas\\core\\indexes\\base.py:3628\u001b[0m, in \u001b[0;36mIndex.get_loc\u001b[1;34m(self, key, method, tolerance)\u001b[0m\n\u001b[0;32m   3623\u001b[0m         \u001b[39mraise\u001b[39;00m \u001b[39mKeyError\u001b[39;00m(key) \u001b[39mfrom\u001b[39;00m \u001b[39merr\u001b[39;00m\n\u001b[0;32m   3624\u001b[0m     \u001b[39mexcept\u001b[39;00m \u001b[39mTypeError\u001b[39;00m:\n\u001b[0;32m   3625\u001b[0m         \u001b[39m# If we have a listlike key, _check_indexing_error will raise\u001b[39;00m\n\u001b[0;32m   3626\u001b[0m         \u001b[39m#  InvalidIndexError. Otherwise we fall through and re-raise\u001b[39;00m\n\u001b[0;32m   3627\u001b[0m         \u001b[39m#  the TypeError.\u001b[39;00m\n\u001b[1;32m-> 3628\u001b[0m         \u001b[39mself\u001b[39;49m\u001b[39m.\u001b[39;49m_check_indexing_error(key)\n\u001b[0;32m   3629\u001b[0m         \u001b[39mraise\u001b[39;00m\n\u001b[0;32m   3631\u001b[0m \u001b[39m# GH#42269\u001b[39;00m\n",
      "File \u001b[1;32mc:\\Users\\steve\\miniconda3\\envs\\sklearn\\lib\\site-packages\\pandas\\core\\indexes\\base.py:5637\u001b[0m, in \u001b[0;36mIndex._check_indexing_error\u001b[1;34m(self, key)\u001b[0m\n\u001b[0;32m   5633\u001b[0m \u001b[39mdef\u001b[39;00m \u001b[39m_check_indexing_error\u001b[39m(\u001b[39mself\u001b[39m, key):\n\u001b[0;32m   5634\u001b[0m     \u001b[39mif\u001b[39;00m \u001b[39mnot\u001b[39;00m is_scalar(key):\n\u001b[0;32m   5635\u001b[0m         \u001b[39m# if key is not a scalar, directly raise an error (the code below\u001b[39;00m\n\u001b[0;32m   5636\u001b[0m         \u001b[39m# would convert to numpy arrays and raise later any way) - GH29926\u001b[39;00m\n\u001b[1;32m-> 5637\u001b[0m         \u001b[39mraise\u001b[39;00m InvalidIndexError(key)\n",
      "\u001b[1;31mInvalidIndexError\u001b[0m: (array([    0,     1,    13, ..., 29997, 29998, 29999], dtype=int64), 0)"
     ]
    }
   ],
   "source": [
    "# scatter plot of examples by class label\n",
    "for label, _ in counter.items():\n",
    "\trow_ix = where(y == label)[0]\n",
    "\tplt.scatter(X[row_ix, 0], X[row_ix, 1], label=str(label))\n",
    "plt.legend()\n",
    "plt.show()"
   ]
  },
  {
   "cell_type": "code",
   "execution_count": 39,
   "id": "430f6240",
   "metadata": {},
   "outputs": [
    {
     "name": "stdout",
     "output_type": "stream",
     "text": [
      "Mean ROC AUC: 0.985\n"
     ]
    }
   ],
   "source": [
    "# fit a logistic regression model on an imbalanced classification dataset\n",
    "from numpy import mean\n",
    "from sklearn.datasets import make_classification\n",
    "from sklearn.model_selection import cross_val_score\n",
    "from sklearn.model_selection import RepeatedStratifiedKFold\n",
    "from sklearn.linear_model import LogisticRegression\n",
    "# generate dataset\n",
    "X_train, y_train = make_classification(n_samples=10000, n_features=2, n_redundant=0,\n",
    "\tn_clusters_per_class=1, weights=[0.99], flip_y=0, random_state=2)\n",
    "# define model\n",
    "logReg3 = LogisticRegression(solver='lbfgs')\n",
    "# define evaluation procedure\n",
    "cv = RepeatedStratifiedKFold(n_splits=10, n_repeats=3, random_state=1)\n",
    "# evaluate model\n",
    "scores = cross_val_score(logReg3, X_train, y_train, scoring='roc_auc', cv=cv, n_jobs=-1)\n",
    "# summarize performance\n",
    "print('Mean ROC AUC: %.3f' % mean(scores))"
   ]
  },
  {
   "cell_type": "code",
   "execution_count": 41,
   "id": "c1fb5523",
   "metadata": {},
   "outputs": [
    {
     "name": "stderr",
     "output_type": "stream",
     "text": [
      "c:\\Users\\steve\\miniconda3\\envs\\sklearn\\lib\\site-packages\\sklearn\\base.py:443: UserWarning: X has feature names, but LogisticRegression was fitted without feature names\n",
      "  warnings.warn(\n"
     ]
    },
    {
     "ename": "ValueError",
     "evalue": "X has 4 features, but LogisticRegression is expecting 2 features as input.",
     "output_type": "error",
     "traceback": [
      "\u001b[1;31m---------------------------------------------------------------------------\u001b[0m",
      "\u001b[1;31mValueError\u001b[0m                                Traceback (most recent call last)",
      "\u001b[1;32mc:\\Users\\steve\\gits\\nw-msds498\\04d3 - required models - LogReg.ipynb Cell 25\u001b[0m in \u001b[0;36m<cell line: 2>\u001b[1;34m()\u001b[0m\n\u001b[0;32m      <a href='vscode-notebook-cell:/c%3A/Users/steve/gits/nw-msds498/04d3%20-%20required%20models%20-%20LogReg.ipynb#X33sZmlsZQ%3D%3D?line=0'>1</a>\u001b[0m logReg3\u001b[39m.\u001b[39mfit(X_train, y_train)\n\u001b[1;32m----> <a href='vscode-notebook-cell:/c%3A/Users/steve/gits/nw-msds498/04d3%20-%20required%20models%20-%20LogReg.ipynb#X33sZmlsZQ%3D%3D?line=1'>2</a>\u001b[0m predictions \u001b[39m=\u001b[39m logReg3\u001b[39m.\u001b[39;49mpredict(X_test)\n\u001b[0;32m      <a href='vscode-notebook-cell:/c%3A/Users/steve/gits/nw-msds498/04d3%20-%20required%20models%20-%20LogReg.ipynb#X33sZmlsZQ%3D%3D?line=2'>3</a>\u001b[0m score \u001b[39m=\u001b[39m logReg3\u001b[39m.\u001b[39mscore(X_test, y_test)\n\u001b[0;32m      <a href='vscode-notebook-cell:/c%3A/Users/steve/gits/nw-msds498/04d3%20-%20required%20models%20-%20LogReg.ipynb#X33sZmlsZQ%3D%3D?line=3'>4</a>\u001b[0m score\n",
      "File \u001b[1;32mc:\\Users\\steve\\miniconda3\\envs\\sklearn\\lib\\site-packages\\sklearn\\linear_model\\_base.py:447\u001b[0m, in \u001b[0;36mLinearClassifierMixin.predict\u001b[1;34m(self, X)\u001b[0m\n\u001b[0;32m    433\u001b[0m \u001b[39mdef\u001b[39;00m \u001b[39mpredict\u001b[39m(\u001b[39mself\u001b[39m, X):\n\u001b[0;32m    434\u001b[0m     \u001b[39m\"\"\"\u001b[39;00m\n\u001b[0;32m    435\u001b[0m \u001b[39m    Predict class labels for samples in X.\u001b[39;00m\n\u001b[0;32m    436\u001b[0m \n\u001b[1;32m   (...)\u001b[0m\n\u001b[0;32m    445\u001b[0m \u001b[39m        Vector containing the class labels for each sample.\u001b[39;00m\n\u001b[0;32m    446\u001b[0m \u001b[39m    \"\"\"\u001b[39;00m\n\u001b[1;32m--> 447\u001b[0m     scores \u001b[39m=\u001b[39m \u001b[39mself\u001b[39;49m\u001b[39m.\u001b[39;49mdecision_function(X)\n\u001b[0;32m    448\u001b[0m     \u001b[39mif\u001b[39;00m \u001b[39mlen\u001b[39m(scores\u001b[39m.\u001b[39mshape) \u001b[39m==\u001b[39m \u001b[39m1\u001b[39m:\n\u001b[0;32m    449\u001b[0m         indices \u001b[39m=\u001b[39m (scores \u001b[39m>\u001b[39m \u001b[39m0\u001b[39m)\u001b[39m.\u001b[39mastype(\u001b[39mint\u001b[39m)\n",
      "File \u001b[1;32mc:\\Users\\steve\\miniconda3\\envs\\sklearn\\lib\\site-packages\\sklearn\\linear_model\\_base.py:429\u001b[0m, in \u001b[0;36mLinearClassifierMixin.decision_function\u001b[1;34m(self, X)\u001b[0m\n\u001b[0;32m    409\u001b[0m \u001b[39m\"\"\"\u001b[39;00m\n\u001b[0;32m    410\u001b[0m \u001b[39mPredict confidence scores for samples.\u001b[39;00m\n\u001b[0;32m    411\u001b[0m \n\u001b[1;32m   (...)\u001b[0m\n\u001b[0;32m    425\u001b[0m \u001b[39m    this class would be predicted.\u001b[39;00m\n\u001b[0;32m    426\u001b[0m \u001b[39m\"\"\"\u001b[39;00m\n\u001b[0;32m    427\u001b[0m check_is_fitted(\u001b[39mself\u001b[39m)\n\u001b[1;32m--> 429\u001b[0m X \u001b[39m=\u001b[39m \u001b[39mself\u001b[39;49m\u001b[39m.\u001b[39;49m_validate_data(X, accept_sparse\u001b[39m=\u001b[39;49m\u001b[39m\"\u001b[39;49m\u001b[39mcsr\u001b[39;49m\u001b[39m\"\u001b[39;49m, reset\u001b[39m=\u001b[39;49m\u001b[39mFalse\u001b[39;49;00m)\n\u001b[0;32m    430\u001b[0m scores \u001b[39m=\u001b[39m safe_sparse_dot(X, \u001b[39mself\u001b[39m\u001b[39m.\u001b[39mcoef_\u001b[39m.\u001b[39mT, dense_output\u001b[39m=\u001b[39m\u001b[39mTrue\u001b[39;00m) \u001b[39m+\u001b[39m \u001b[39mself\u001b[39m\u001b[39m.\u001b[39mintercept_\n\u001b[0;32m    431\u001b[0m \u001b[39mreturn\u001b[39;00m scores\u001b[39m.\u001b[39mravel() \u001b[39mif\u001b[39;00m scores\u001b[39m.\u001b[39mshape[\u001b[39m1\u001b[39m] \u001b[39m==\u001b[39m \u001b[39m1\u001b[39m \u001b[39melse\u001b[39;00m scores\n",
      "File \u001b[1;32mc:\\Users\\steve\\miniconda3\\envs\\sklearn\\lib\\site-packages\\sklearn\\base.py:600\u001b[0m, in \u001b[0;36mBaseEstimator._validate_data\u001b[1;34m(self, X, y, reset, validate_separately, **check_params)\u001b[0m\n\u001b[0;32m    597\u001b[0m     out \u001b[39m=\u001b[39m X, y\n\u001b[0;32m    599\u001b[0m \u001b[39mif\u001b[39;00m \u001b[39mnot\u001b[39;00m no_val_X \u001b[39mand\u001b[39;00m check_params\u001b[39m.\u001b[39mget(\u001b[39m\"\u001b[39m\u001b[39mensure_2d\u001b[39m\u001b[39m\"\u001b[39m, \u001b[39mTrue\u001b[39;00m):\n\u001b[1;32m--> 600\u001b[0m     \u001b[39mself\u001b[39;49m\u001b[39m.\u001b[39;49m_check_n_features(X, reset\u001b[39m=\u001b[39;49mreset)\n\u001b[0;32m    602\u001b[0m \u001b[39mreturn\u001b[39;00m out\n",
      "File \u001b[1;32mc:\\Users\\steve\\miniconda3\\envs\\sklearn\\lib\\site-packages\\sklearn\\base.py:400\u001b[0m, in \u001b[0;36mBaseEstimator._check_n_features\u001b[1;34m(self, X, reset)\u001b[0m\n\u001b[0;32m    397\u001b[0m     \u001b[39mreturn\u001b[39;00m\n\u001b[0;32m    399\u001b[0m \u001b[39mif\u001b[39;00m n_features \u001b[39m!=\u001b[39m \u001b[39mself\u001b[39m\u001b[39m.\u001b[39mn_features_in_:\n\u001b[1;32m--> 400\u001b[0m     \u001b[39mraise\u001b[39;00m \u001b[39mValueError\u001b[39;00m(\n\u001b[0;32m    401\u001b[0m         \u001b[39mf\u001b[39m\u001b[39m\"\u001b[39m\u001b[39mX has \u001b[39m\u001b[39m{\u001b[39;00mn_features\u001b[39m}\u001b[39;00m\u001b[39m features, but \u001b[39m\u001b[39m{\u001b[39;00m\u001b[39mself\u001b[39m\u001b[39m.\u001b[39m\u001b[39m__class__\u001b[39m\u001b[39m.\u001b[39m\u001b[39m__name__\u001b[39m\u001b[39m}\u001b[39;00m\u001b[39m \u001b[39m\u001b[39m\"\u001b[39m\n\u001b[0;32m    402\u001b[0m         \u001b[39mf\u001b[39m\u001b[39m\"\u001b[39m\u001b[39mis expecting \u001b[39m\u001b[39m{\u001b[39;00m\u001b[39mself\u001b[39m\u001b[39m.\u001b[39mn_features_in_\u001b[39m}\u001b[39;00m\u001b[39m features as input.\u001b[39m\u001b[39m\"\u001b[39m\n\u001b[0;32m    403\u001b[0m     )\n",
      "\u001b[1;31mValueError\u001b[0m: X has 4 features, but LogisticRegression is expecting 2 features as input."
     ]
    }
   ],
   "source": [
    "logReg3.fit(X_train, y_train)\n",
    "predictions = logReg3.predict(X_test)\n",
    "score = logReg3.score(X_test, y_test)\n",
    "score"
   ]
  },
  {
   "cell_type": "markdown",
   "id": "59b52115",
   "metadata": {},
   "source": [
    "previous kfold overfit quickly  \n",
    "try weighting"
   ]
  },
  {
   "cell_type": "code",
   "execution_count": 42,
   "id": "569d516c",
   "metadata": {},
   "outputs": [],
   "source": [
    "# define model\n",
    "weights = {0:1.0, 1:4.0}\n",
    "model = LogisticRegression(solver='lbfgs', class_weight=weights)"
   ]
  },
  {
   "cell_type": "code",
   "execution_count": 43,
   "id": "d57379b7",
   "metadata": {},
   "outputs": [
    {
     "name": "stdout",
     "output_type": "stream",
     "text": [
      "Mean ROC AUC: 0.989\n"
     ]
    }
   ],
   "source": [
    "# weighted logistic regression model on an imbalanced classification dataset\n",
    "from numpy import mean\n",
    "from sklearn.datasets import make_classification\n",
    "from sklearn.model_selection import cross_val_score\n",
    "from sklearn.model_selection import RepeatedStratifiedKFold\n",
    "from sklearn.linear_model import LogisticRegression\n",
    "# generate dataset\n",
    "X, y = make_classification(n_samples=10000, n_features=2, n_redundant=0,\n",
    "\tn_clusters_per_class=1, weights=[0.99], flip_y=0, random_state=2)\n",
    "# define model\n",
    "weights = {0:0.01, 1:1.0}\n",
    "model = LogisticRegression(solver='lbfgs', class_weight=weights)\n",
    "# define evaluation procedure\n",
    "cv = RepeatedStratifiedKFold(n_splits=10, n_repeats=3, random_state=1)\n",
    "# evaluate model\n",
    "scores = cross_val_score(model, X, y, scoring='roc_auc', cv=cv, n_jobs=-1)\n",
    "# summarize performance\n",
    "print('Mean ROC AUC: %.3f' % mean(scores))"
   ]
  },
  {
   "cell_type": "code",
   "execution_count": null,
   "id": "f5ce0e7e",
   "metadata": {},
   "outputs": [],
   "source": []
  },
  {
   "cell_type": "code",
   "execution_count": 45,
   "id": "d4d10a23",
   "metadata": {},
   "outputs": [
    {
     "ename": "AttributeError",
     "evalue": "'RepeatedStratifiedKFold' object has no attribute 'predict'",
     "output_type": "error",
     "traceback": [
      "\u001b[1;31m---------------------------------------------------------------------------\u001b[0m",
      "\u001b[1;31mAttributeError\u001b[0m                            Traceback (most recent call last)",
      "\u001b[1;32mc:\\Users\\steve\\gits\\nw-msds498\\04d3 - required models - LogReg.ipynb Cell 29\u001b[0m in \u001b[0;36m<cell line: 1>\u001b[1;34m()\u001b[0m\n\u001b[1;32m----> <a href='vscode-notebook-cell:/c%3A/Users/steve/gits/nw-msds498/04d3%20-%20required%20models%20-%20LogReg.ipynb#X40sZmlsZQ%3D%3D?line=0'>1</a>\u001b[0m predictions \u001b[39m=\u001b[39m cv\u001b[39m.\u001b[39;49mpredict(X_test)\n\u001b[0;32m      <a href='vscode-notebook-cell:/c%3A/Users/steve/gits/nw-msds498/04d3%20-%20required%20models%20-%20LogReg.ipynb#X40sZmlsZQ%3D%3D?line=1'>2</a>\u001b[0m score \u001b[39m=\u001b[39m model\u001b[39m.\u001b[39mscore(X_test, y_test)\n\u001b[0;32m      <a href='vscode-notebook-cell:/c%3A/Users/steve/gits/nw-msds498/04d3%20-%20required%20models%20-%20LogReg.ipynb#X40sZmlsZQ%3D%3D?line=2'>3</a>\u001b[0m score\n",
      "\u001b[1;31mAttributeError\u001b[0m: 'RepeatedStratifiedKFold' object has no attribute 'predict'"
     ]
    }
   ],
   "source": [
    "predictions = cv.predict(X_test)\n",
    "score = model.score(X_test, y_test)\n",
    "score"
   ]
  },
  {
   "cell_type": "markdown",
   "id": "6ea0de61",
   "metadata": {},
   "source": [
    "determine correct weighting  \n",
    "source: https://machinelearningmastery.com/cost-sensitive-logistic-regression/#:~:text=for%20each%20class.-,Weighted%20Logistic%20Regression%20with%20Scikit%2DLearn,-The%20scikit%2Dlearn"
   ]
  },
  {
   "cell_type": "code",
   "execution_count": 46,
   "id": "112b1e0c",
   "metadata": {},
   "outputs": [
    {
     "name": "stdout",
     "output_type": "stream",
     "text": [
      "[ 0.50505051 50.        ]\n"
     ]
    }
   ],
   "source": [
    "# calculate heuristic class weighting\n",
    "from sklearn.utils.class_weight import compute_class_weight\n",
    "from sklearn.datasets import make_classification\n",
    "# generate 2 class dataset\n",
    "X, y = make_classification(n_samples=10000, n_features=2, n_redundant=0,\n",
    "\tn_clusters_per_class=1, weights=[0.99], flip_y=0, random_state=2)\n",
    "# calculate class weighting\n",
    "weighting = compute_class_weight(class_weight = 'balanced', classes = [0,1], y = y)\n",
    "print(weighting)"
   ]
  },
  {
   "cell_type": "code",
   "execution_count": 47,
   "id": "41d85a8a",
   "metadata": {},
   "outputs": [
    {
     "name": "stderr",
     "output_type": "stream",
     "text": [
      "c:\\Users\\steve\\miniconda3\\envs\\sklearn\\lib\\site-packages\\sklearn\\linear_model\\_logistic.py:329: FutureWarning: elementwise comparison failed; returning scalar instead, but in the future will perform elementwise comparison\n",
      "  if class_weight == \"balanced\":\n"
     ]
    },
    {
     "data": {
      "text/html": [
       "<style>#sk-container-id-3 {color: black;background-color: white;}#sk-container-id-3 pre{padding: 0;}#sk-container-id-3 div.sk-toggleable {background-color: white;}#sk-container-id-3 label.sk-toggleable__label {cursor: pointer;display: block;width: 100%;margin-bottom: 0;padding: 0.3em;box-sizing: border-box;text-align: center;}#sk-container-id-3 label.sk-toggleable__label-arrow:before {content: \"▸\";float: left;margin-right: 0.25em;color: #696969;}#sk-container-id-3 label.sk-toggleable__label-arrow:hover:before {color: black;}#sk-container-id-3 div.sk-estimator:hover label.sk-toggleable__label-arrow:before {color: black;}#sk-container-id-3 div.sk-toggleable__content {max-height: 0;max-width: 0;overflow: hidden;text-align: left;background-color: #f0f8ff;}#sk-container-id-3 div.sk-toggleable__content pre {margin: 0.2em;color: black;border-radius: 0.25em;background-color: #f0f8ff;}#sk-container-id-3 input.sk-toggleable__control:checked~div.sk-toggleable__content {max-height: 200px;max-width: 100%;overflow: auto;}#sk-container-id-3 input.sk-toggleable__control:checked~label.sk-toggleable__label-arrow:before {content: \"▾\";}#sk-container-id-3 div.sk-estimator input.sk-toggleable__control:checked~label.sk-toggleable__label {background-color: #d4ebff;}#sk-container-id-3 div.sk-label input.sk-toggleable__control:checked~label.sk-toggleable__label {background-color: #d4ebff;}#sk-container-id-3 input.sk-hidden--visually {border: 0;clip: rect(1px 1px 1px 1px);clip: rect(1px, 1px, 1px, 1px);height: 1px;margin: -1px;overflow: hidden;padding: 0;position: absolute;width: 1px;}#sk-container-id-3 div.sk-estimator {font-family: monospace;background-color: #f0f8ff;border: 1px dotted black;border-radius: 0.25em;box-sizing: border-box;margin-bottom: 0.5em;}#sk-container-id-3 div.sk-estimator:hover {background-color: #d4ebff;}#sk-container-id-3 div.sk-parallel-item::after {content: \"\";width: 100%;border-bottom: 1px solid gray;flex-grow: 1;}#sk-container-id-3 div.sk-label:hover label.sk-toggleable__label {background-color: #d4ebff;}#sk-container-id-3 div.sk-serial::before {content: \"\";position: absolute;border-left: 1px solid gray;box-sizing: border-box;top: 0;bottom: 0;left: 50%;z-index: 0;}#sk-container-id-3 div.sk-serial {display: flex;flex-direction: column;align-items: center;background-color: white;padding-right: 0.2em;padding-left: 0.2em;position: relative;}#sk-container-id-3 div.sk-item {position: relative;z-index: 1;}#sk-container-id-3 div.sk-parallel {display: flex;align-items: stretch;justify-content: center;background-color: white;position: relative;}#sk-container-id-3 div.sk-item::before, #sk-container-id-3 div.sk-parallel-item::before {content: \"\";position: absolute;border-left: 1px solid gray;box-sizing: border-box;top: 0;bottom: 0;left: 50%;z-index: -1;}#sk-container-id-3 div.sk-parallel-item {display: flex;flex-direction: column;z-index: 1;position: relative;background-color: white;}#sk-container-id-3 div.sk-parallel-item:first-child::after {align-self: flex-end;width: 50%;}#sk-container-id-3 div.sk-parallel-item:last-child::after {align-self: flex-start;width: 50%;}#sk-container-id-3 div.sk-parallel-item:only-child::after {width: 0;}#sk-container-id-3 div.sk-dashed-wrapped {border: 1px dashed gray;margin: 0 0.4em 0.5em 0.4em;box-sizing: border-box;padding-bottom: 0.4em;background-color: white;}#sk-container-id-3 div.sk-label label {font-family: monospace;font-weight: bold;display: inline-block;line-height: 1.2em;}#sk-container-id-3 div.sk-label-container {text-align: center;}#sk-container-id-3 div.sk-container {/* jupyter's `normalize.less` sets `[hidden] { display: none; }` but bootstrap.min.css set `[hidden] { display: none !important; }` so we also need the `!important` here to be able to override the default hidden behavior on the sphinx rendered scikit-learn.org. See: https://github.com/scikit-learn/scikit-learn/issues/21755 */display: inline-block !important;position: relative;}#sk-container-id-3 div.sk-text-repr-fallback {display: none;}</style><div id=\"sk-container-id-3\" class=\"sk-top-container\"><div class=\"sk-text-repr-fallback\"><pre>LogisticRegression(class_weight=array([ 0.50505051, 50.        ]))</pre><b>In a Jupyter environment, please rerun this cell to show the HTML representation or trust the notebook. <br />On GitHub, the HTML representation is unable to render, please try loading this page with nbviewer.org.</b></div><div class=\"sk-container\" hidden><div class=\"sk-item\"><div class=\"sk-estimator sk-toggleable\"><input class=\"sk-toggleable__control sk-hidden--visually\" id=\"sk-estimator-id-3\" type=\"checkbox\" checked><label for=\"sk-estimator-id-3\" class=\"sk-toggleable__label sk-toggleable__label-arrow\">LogisticRegression</label><div class=\"sk-toggleable__content\"><pre>LogisticRegression(class_weight=array([ 0.50505051, 50.        ]))</pre></div></div></div></div></div>"
      ],
      "text/plain": [
       "LogisticRegression(class_weight=array([ 0.50505051, 50.        ]))"
      ]
     },
     "execution_count": 47,
     "metadata": {},
     "output_type": "execute_result"
    }
   ],
   "source": [
    "logReg4 = LogisticRegression(solver='lbfgs', class_weight=weighting)\n",
    "logReg4.fit(X_train_official,y_train_official)"
   ]
  },
  {
   "cell_type": "code",
   "execution_count": 48,
   "id": "cdde942b",
   "metadata": {},
   "outputs": [
    {
     "data": {
      "text/plain": [
       "0.7954390277208794"
      ]
     },
     "execution_count": 48,
     "metadata": {},
     "output_type": "execute_result"
    }
   ],
   "source": [
    "predictions = logReg4.predict(X_test)\n",
    "score = logReg4.score(X_test, y_test)\n",
    "score"
   ]
  },
  {
   "cell_type": "code",
   "execution_count": 49,
   "id": "dc4b279c",
   "metadata": {},
   "outputs": [
    {
     "name": "stdout",
     "output_type": "stream",
     "text": [
      "[[5646  120]\n",
      " [1378  179]]\n"
     ]
    },
    {
     "data": {
      "image/png": "[encoded data removed]",
      "text/plain": [
       "<Figure size 648x648 with 2 Axes>"
      ]
     },
     "metadata": {
      "needs_background": "light"
     },
     "output_type": "display_data"
    }
   ],
   "source": [
    "cm = metrics.confusion_matrix(y_test, predictions)\n",
    "print(cm)\n",
    "\n",
    "plt.figure(figsize=(9,9))\n",
    "sns.heatmap(cm, annot=True, fmt=\".3f\", linewidths=.5, square = True, cmap = 'Blues_r');\n",
    "plt.ylabel('Actual label');\n",
    "plt.xlabel('Predicted label');\n",
    "all_sample_title = 'Accuracy Score: {0}'.format(score)\n",
    "plt.title(all_sample_title, size = 15);\n"
   ]
  },
  {
   "cell_type": "markdown",
   "id": "3a676fb0",
   "metadata": {},
   "source": [
    "coeffs/p-values"
   ]
  },
  {
   "cell_type": "code",
   "execution_count": 52,
   "id": "fd42231b",
   "metadata": {},
   "outputs": [
    {
     "data": {
      "text/plain": [
       "array([[ 7.45264074e-01, -1.69612866e-03,  1.58184689e-01,\n",
       "        -3.40409236e-05]])"
      ]
     },
     "execution_count": 52,
     "metadata": {},
     "output_type": "execute_result"
    }
   ],
   "source": [
    "logReg4.coef_"
   ]
  },
  {
   "cell_type": "code",
   "execution_count": 54,
   "id": "52115980",
   "metadata": {},
   "outputs": [
    {
     "name": "stdout",
     "output_type": "stream",
     "text": [
      "Optimization terminated successfully.\n",
      "         Current function value: 0.054742\n",
      "         Iterations 11\n",
      "                           Logit Regression Results                           \n",
      "==============================================================================\n",
      "Dep. Variable:                      y   No. Observations:                10000\n",
      "Model:                          Logit   Df Residuals:                     9998\n",
      "Method:                           MLE   Df Model:                            1\n",
      "Date:                Sun, 14 Aug 2022   Pseudo R-squ.:                 0.02248\n",
      "Time:                        18:50:40   Log-Likelihood:                -547.42\n",
      "converged:                       True   LL-Null:                       -560.02\n",
      "Covariance Type:            nonrobust   LLR p-value:                 5.218e-07\n",
      "==============================================================================\n",
      "                 coef    std err          z      P>|z|      [0.025      0.975]\n",
      "------------------------------------------------------------------------------\n",
      "x1             6.5037      0.245     26.572      0.000       6.024       6.983\n",
      "x2            -2.0074      0.107    -18.832      0.000      -2.216      -1.799\n",
      "==============================================================================\n",
      "\n",
      "Possibly complete quasi-separation: A fraction 0.43 of observations can be\n",
      "perfectly predicted. This might indicate that there is complete\n",
      "quasi-separation. In this case some parameters will not be identified.\n"
     ]
    }
   ],
   "source": [
    "import statsmodels.api as sm\n",
    "logit_model=sm.Logit(y_train,X_train)\n",
    "result=logit_model.fit()\n",
    "print(result.summary())\n"
   ]
  }
 ],
 "metadata": {
  "kernelspec": {
   "display_name": "Python 3.10.4 ('sklearn')",
   "language": "python",
   "name": "python3"
  },
  "language_info": {
   "codemirror_mode": {
    "name": "ipython",
    "version": 3
   },
   "file_extension": ".py",
   "mimetype": "text/x-python",
   "name": "python",
   "nbconvert_exporter": "python",
   "pygments_lexer": "ipython3",
   "version": "3.10.4"
  },
  "vscode": {
   "interpreter": {
    "hash": "cfb92a60af4d7fb518c9b5da2dfc233572da65f5c99ace19bf5d7c807d5d188b"
   }
  }
 },
 "nbformat": 4,
 "nbformat_minor": 5
}
