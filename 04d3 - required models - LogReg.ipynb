{
 "cells": [
  {
   "cell_type": "markdown",
   "id": "fae65291",
   "metadata": {},
   "source": [
    "In this section we will provide the results from four modeling approaches.  Three of these \n",
    "modeling approaches are defined for you, and you get to choose the fourth approach from the \n",
    "list of choices.   \n",
    "    - For each model provide any relevant or useful model output and a table of the model\n",
    "    performance in-sample (i.e. on the training data set) and out-of-sample (i.e. on the test data set).   \n",
    "    - The metrics to be measured are:   \n",
    "        (1) true positive rate or sensitivity  \n",
    "        (2) false positive rate  \n",
    "        (3) the accuracy.  \n",
    " \n",
    "5.a Random Forest  \n",
    "    - Include the variable importance plot.  \n",
    " \n",
    "5.b Gradient Boosting  \n",
    "    - Use GBM or XGBoost packages.  Include the variable importance plot.  \n",
    "\n",
    "5.c Logistic Regression with Variable Selection   \n",
    "    - Random Forest and Gradient Boosting will identify a pool of interesting predictor \n",
    "    variables.  Use that information to help you choose an initial pool of predictor variables.   \n",
    "    List your initial pool of predictor variables in a table.   \n",
    "    - Choose a variable selection algorithm.  Use that variable selection algorithm to arrive at \n",
    "    an ‘optimal’ logistic regression model.  \n",
    "    - Since this is a linear model, you should provide a table of the model coefficients and \n",
    "    their p-values.  \n",
    " \n",
    "5.d Your Choice – CHAID, Neural Network, SVM, or some other method appropriate for \n",
    "binary classification.   \n",
    "    - Provide the relevant output for the model of choice.  For example SVM has margin \n",
    "    plots that are useful, and a neural network allows you to plot out the network topology.  If \n",
    "    your chosen method has a ‘standard’ plot that is typically shown with it, then we all \n",
    "    expect to see that plot, and you should be providing that plot with the model."
   ]
  },
  {
   "cell_type": "code",
   "execution_count": 36,
   "id": "cde8f6d0",
   "metadata": {},
   "outputs": [],
   "source": [
    "### ref https://blog.jovian.ai/machine-learning-with-python-implementing-xgboost-and-random-forest-fd51fa4f9f4c#b9a9\n",
    "# !pip install numpy pandas matplotlib seaborn --quiet\n",
    "# !pip install jovian opendatasets xgboost graphviz lightgbm scikit-learn xgboost lightgbm --upgrade --quiet\n",
    "# !pip install pyreadr\n",
    "\n",
    "#importing dataset\n",
    "import os\n",
    "# import opendatasets as od\n",
    "import pandas as pd\n",
    "import numpy as np\n",
    "import pyreadr\n",
    "\n",
    "#Pipeline\n",
    "from sklearn.pipeline import make_pipeline\n",
    "from sklearn.compose import make_column_transformer\n",
    "\n",
    "# For Missing Value and Feature Engineering\n",
    "from sklearn.feature_selection import SelectKBest, chi2, f_classif, VarianceThreshold\n",
    "from sklearn.impute import SimpleImputer, KNNImputer, MissingIndicator\n",
    "from sklearn.preprocessing import KBinsDiscretizer, OneHotEncoder, MinMaxScaler\n",
    "from sklearn.decomposition import PCA\n",
    "from sklearn.ensemble import RandomForestClassifier, ExtraTreesClassifier\n",
    "\n",
    "from sklearn import metrics\n",
    "\n",
    "import time\n",
    "\n",
    "#for visualization\n",
    "import seaborn as sns\n",
    "import matplotlib.pyplot as plt\n",
    "\n",
    "pd.set_option(\"display.max_columns\", 120)\n",
    "pd.set_option(\"display.max_rows\", 120)\n"
   ]
  },
  {
   "cell_type": "code",
   "execution_count": 17,
   "id": "5a18183e",
   "metadata": {},
   "outputs": [],
   "source": [
    "credit_card_default_raw = pd.read_csv('./Data/credit_card_default.csv')\n",
    "result = pyreadr.read_r('./Data/credit_card_default_eng.RData') \n",
    "credit_card_default_eng = result[None]"
   ]
  },
  {
   "cell_type": "code",
   "execution_count": 18,
   "id": "643980f8",
   "metadata": {},
   "outputs": [
    {
     "data": {
      "text/html": [
       "<div>\n",
       "<style scoped>\n",
       "    .dataframe tbody tr th:only-of-type {\n",
       "        vertical-align: middle;\n",
       "    }\n",
       "\n",
       "    .dataframe tbody tr th {\n",
       "        vertical-align: top;\n",
       "    }\n",
       "\n",
       "    .dataframe thead th {\n",
       "        text-align: right;\n",
       "    }\n",
       "</style>\n",
       "<table border=\"1\" class=\"dataframe\">\n",
       "  <thead>\n",
       "    <tr style=\"text-align: right;\">\n",
       "      <th></th>\n",
       "      <th>DEFAULT</th>\n",
       "      <th>bill_avg</th>\n",
       "      <th>payment_avg</th>\n",
       "      <th>pay_ratio1</th>\n",
       "      <th>pay_ratio2</th>\n",
       "      <th>pay_ratio3</th>\n",
       "      <th>pay_ratio4</th>\n",
       "      <th>pay_ratio5</th>\n",
       "      <th>ratio_avg</th>\n",
       "      <th>util1</th>\n",
       "      <th>util2</th>\n",
       "      <th>util3</th>\n",
       "      <th>util4</th>\n",
       "      <th>util5</th>\n",
       "      <th>util6</th>\n",
       "      <th>util_avg</th>\n",
       "      <th>balance_growth_6mo</th>\n",
       "      <th>bill_max</th>\n",
       "      <th>payment_max</th>\n",
       "      <th>pay_max</th>\n",
       "    </tr>\n",
       "  </thead>\n",
       "  <tbody>\n",
       "    <tr>\n",
       "      <th>count</th>\n",
       "      <td>30000.000000</td>\n",
       "      <td>30000.000000</td>\n",
       "      <td>30000.000000</td>\n",
       "      <td>30000.000000</td>\n",
       "      <td>30000.000000</td>\n",
       "      <td>30000.000000</td>\n",
       "      <td>30000.000000</td>\n",
       "      <td>30000.000000</td>\n",
       "      <td>30000.000000</td>\n",
       "      <td>30000.000000</td>\n",
       "      <td>30000.000000</td>\n",
       "      <td>30000.000000</td>\n",
       "      <td>30000.000000</td>\n",
       "      <td>30000.000000</td>\n",
       "      <td>30000.000000</td>\n",
       "      <td>30000.000000</td>\n",
       "      <td>30000.000000</td>\n",
       "      <td>3.000000e+04</td>\n",
       "      <td>3.000000e+04</td>\n",
       "      <td>30000.000000</td>\n",
       "    </tr>\n",
       "    <tr>\n",
       "      <th>mean</th>\n",
       "      <td>0.221200</td>\n",
       "      <td>44976.945200</td>\n",
       "      <td>5275.232094</td>\n",
       "      <td>0.579660</td>\n",
       "      <td>0.767499</td>\n",
       "      <td>0.583088</td>\n",
       "      <td>0.439289</td>\n",
       "      <td>0.512580</td>\n",
       "      <td>0.576423</td>\n",
       "      <td>0.423771</td>\n",
       "      <td>0.411128</td>\n",
       "      <td>0.392192</td>\n",
       "      <td>0.359503</td>\n",
       "      <td>0.333108</td>\n",
       "      <td>0.333108</td>\n",
       "      <td>0.375468</td>\n",
       "      <td>-0.090664</td>\n",
       "      <td>6.057244e+04</td>\n",
       "      <td>1.584823e+04</td>\n",
       "      <td>0.682200</td>\n",
       "    </tr>\n",
       "    <tr>\n",
       "      <th>std</th>\n",
       "      <td>0.415062</td>\n",
       "      <td>63260.721860</td>\n",
       "      <td>10137.946323</td>\n",
       "      <td>25.679778</td>\n",
       "      <td>38.681092</td>\n",
       "      <td>25.683585</td>\n",
       "      <td>1.196318</td>\n",
       "      <td>5.075522</td>\n",
       "      <td>16.499616</td>\n",
       "      <td>0.411462</td>\n",
       "      <td>0.404555</td>\n",
       "      <td>0.396449</td>\n",
       "      <td>0.368686</td>\n",
       "      <td>0.350542</td>\n",
       "      <td>0.350542</td>\n",
       "      <td>0.355618</td>\n",
       "      <td>0.279674</td>\n",
       "      <td>7.840481e+04</td>\n",
       "      <td>3.793356e+04</td>\n",
       "      <td>1.073518</td>\n",
       "    </tr>\n",
       "    <tr>\n",
       "      <th>min</th>\n",
       "      <td>0.000000</td>\n",
       "      <td>-56043.166667</td>\n",
       "      <td>0.000000</td>\n",
       "      <td>0.000000</td>\n",
       "      <td>0.000000</td>\n",
       "      <td>0.000000</td>\n",
       "      <td>0.000000</td>\n",
       "      <td>0.000000</td>\n",
       "      <td>0.000000</td>\n",
       "      <td>-0.619892</td>\n",
       "      <td>-1.395540</td>\n",
       "      <td>-1.025100</td>\n",
       "      <td>-1.374500</td>\n",
       "      <td>-0.876743</td>\n",
       "      <td>-0.876743</td>\n",
       "      <td>-0.232590</td>\n",
       "      <td>-4.700400</td>\n",
       "      <td>-6.029000e+03</td>\n",
       "      <td>0.000000e+00</td>\n",
       "      <td>0.000000</td>\n",
       "    </tr>\n",
       "    <tr>\n",
       "      <th>25%</th>\n",
       "      <td>0.000000</td>\n",
       "      <td>4781.333333</td>\n",
       "      <td>1113.291667</td>\n",
       "      <td>0.044674</td>\n",
       "      <td>0.044607</td>\n",
       "      <td>0.037923</td>\n",
       "      <td>0.036397</td>\n",
       "      <td>0.038092</td>\n",
       "      <td>0.047855</td>\n",
       "      <td>0.022032</td>\n",
       "      <td>0.018318</td>\n",
       "      <td>0.016030</td>\n",
       "      <td>0.014299</td>\n",
       "      <td>0.011133</td>\n",
       "      <td>0.011133</td>\n",
       "      <td>0.028925</td>\n",
       "      <td>-0.146863</td>\n",
       "      <td>1.006000e+04</td>\n",
       "      <td>2.198000e+03</td>\n",
       "      <td>0.000000</td>\n",
       "    </tr>\n",
       "    <tr>\n",
       "      <th>50%</th>\n",
       "      <td>0.000000</td>\n",
       "      <td>21051.833333</td>\n",
       "      <td>2397.166667</td>\n",
       "      <td>0.101535</td>\n",
       "      <td>0.103755</td>\n",
       "      <td>0.084352</td>\n",
       "      <td>0.076952</td>\n",
       "      <td>0.090388</td>\n",
       "      <td>0.197668</td>\n",
       "      <td>0.313994</td>\n",
       "      <td>0.296057</td>\n",
       "      <td>0.273135</td>\n",
       "      <td>0.242066</td>\n",
       "      <td>0.212026</td>\n",
       "      <td>0.212026</td>\n",
       "      <td>0.286554</td>\n",
       "      <td>-0.004382</td>\n",
       "      <td>3.120850e+04</td>\n",
       "      <td>5.000000e+03</td>\n",
       "      <td>0.000000</td>\n",
       "    </tr>\n",
       "    <tr>\n",
       "      <th>75%</th>\n",
       "      <td>0.000000</td>\n",
       "      <td>57104.416667</td>\n",
       "      <td>5583.916667</td>\n",
       "      <td>1.000000</td>\n",
       "      <td>1.000000</td>\n",
       "      <td>1.000000</td>\n",
       "      <td>1.000000</td>\n",
       "      <td>1.000000</td>\n",
       "      <td>0.903817</td>\n",
       "      <td>0.829843</td>\n",
       "      <td>0.806500</td>\n",
       "      <td>0.755107</td>\n",
       "      <td>0.667937</td>\n",
       "      <td>0.602245</td>\n",
       "      <td>0.602245</td>\n",
       "      <td>0.692718</td>\n",
       "      <td>0.028105</td>\n",
       "      <td>7.959900e+04</td>\n",
       "      <td>1.210000e+04</td>\n",
       "      <td>2.000000</td>\n",
       "    </tr>\n",
       "    <tr>\n",
       "      <th>max</th>\n",
       "      <td>1.000000</td>\n",
       "      <td>877313.833333</td>\n",
       "      <td>627344.333333</td>\n",
       "      <td>4444.333333</td>\n",
       "      <td>5001.000000</td>\n",
       "      <td>4444.333333</td>\n",
       "      <td>129.705128</td>\n",
       "      <td>690.655172</td>\n",
       "      <td>2667.199955</td>\n",
       "      <td>6.455300</td>\n",
       "      <td>6.380500</td>\n",
       "      <td>10.688575</td>\n",
       "      <td>5.146850</td>\n",
       "      <td>4.935500</td>\n",
       "      <td>4.935500</td>\n",
       "      <td>5.537758</td>\n",
       "      <td>1.791100</td>\n",
       "      <td>1.664089e+06</td>\n",
       "      <td>1.684259e+06</td>\n",
       "      <td>8.000000</td>\n",
       "    </tr>\n",
       "  </tbody>\n",
       "</table>\n",
       "</div>"
      ],
      "text/plain": [
       "            DEFAULT       bill_avg    payment_avg    pay_ratio1    pay_ratio2  \\\n",
       "count  30000.000000   30000.000000   30000.000000  30000.000000  30000.000000   \n",
       "mean       0.221200   44976.945200    5275.232094      0.579660      0.767499   \n",
       "std        0.415062   63260.721860   10137.946323     25.679778     38.681092   \n",
       "min        0.000000  -56043.166667       0.000000      0.000000      0.000000   \n",
       "25%        0.000000    4781.333333    1113.291667      0.044674      0.044607   \n",
       "50%        0.000000   21051.833333    2397.166667      0.101535      0.103755   \n",
       "75%        0.000000   57104.416667    5583.916667      1.000000      1.000000   \n",
       "max        1.000000  877313.833333  627344.333333   4444.333333   5001.000000   \n",
       "\n",
       "         pay_ratio3    pay_ratio4    pay_ratio5     ratio_avg         util1  \\\n",
       "count  30000.000000  30000.000000  30000.000000  30000.000000  30000.000000   \n",
       "mean       0.583088      0.439289      0.512580      0.576423      0.423771   \n",
       "std       25.683585      1.196318      5.075522     16.499616      0.411462   \n",
       "min        0.000000      0.000000      0.000000      0.000000     -0.619892   \n",
       "25%        0.037923      0.036397      0.038092      0.047855      0.022032   \n",
       "50%        0.084352      0.076952      0.090388      0.197668      0.313994   \n",
       "75%        1.000000      1.000000      1.000000      0.903817      0.829843   \n",
       "max     4444.333333    129.705128    690.655172   2667.199955      6.455300   \n",
       "\n",
       "              util2         util3         util4         util5         util6  \\\n",
       "count  30000.000000  30000.000000  30000.000000  30000.000000  30000.000000   \n",
       "mean       0.411128      0.392192      0.359503      0.333108      0.333108   \n",
       "std        0.404555      0.396449      0.368686      0.350542      0.350542   \n",
       "min       -1.395540     -1.025100     -1.374500     -0.876743     -0.876743   \n",
       "25%        0.018318      0.016030      0.014299      0.011133      0.011133   \n",
       "50%        0.296057      0.273135      0.242066      0.212026      0.212026   \n",
       "75%        0.806500      0.755107      0.667937      0.602245      0.602245   \n",
       "max        6.380500     10.688575      5.146850      4.935500      4.935500   \n",
       "\n",
       "           util_avg  balance_growth_6mo      bill_max   payment_max  \\\n",
       "count  30000.000000        30000.000000  3.000000e+04  3.000000e+04   \n",
       "mean       0.375468           -0.090664  6.057244e+04  1.584823e+04   \n",
       "std        0.355618            0.279674  7.840481e+04  3.793356e+04   \n",
       "min       -0.232590           -4.700400 -6.029000e+03  0.000000e+00   \n",
       "25%        0.028925           -0.146863  1.006000e+04  2.198000e+03   \n",
       "50%        0.286554           -0.004382  3.120850e+04  5.000000e+03   \n",
       "75%        0.692718            0.028105  7.959900e+04  1.210000e+04   \n",
       "max        5.537758            1.791100  1.664089e+06  1.684259e+06   \n",
       "\n",
       "            pay_max  \n",
       "count  30000.000000  \n",
       "mean       0.682200  \n",
       "std        1.073518  \n",
       "min        0.000000  \n",
       "25%        0.000000  \n",
       "50%        0.000000  \n",
       "75%        2.000000  \n",
       "max        8.000000  "
      ]
     },
     "metadata": {},
     "output_type": "display_data"
    },
    {
     "data": {
      "text/html": [
       "<div>\n",
       "<style scoped>\n",
       "    .dataframe tbody tr th:only-of-type {\n",
       "        vertical-align: middle;\n",
       "    }\n",
       "\n",
       "    .dataframe tbody tr th {\n",
       "        vertical-align: top;\n",
       "    }\n",
       "\n",
       "    .dataframe thead th {\n",
       "        text-align: right;\n",
       "    }\n",
       "</style>\n",
       "<table border=\"1\" class=\"dataframe\">\n",
       "  <thead>\n",
       "    <tr style=\"text-align: right;\">\n",
       "      <th></th>\n",
       "      <th>DEFAULT</th>\n",
       "      <th>age_bins</th>\n",
       "      <th>bill_avg</th>\n",
       "      <th>payment_avg</th>\n",
       "      <th>pay_ratio1</th>\n",
       "      <th>pay_ratio2</th>\n",
       "      <th>pay_ratio3</th>\n",
       "      <th>pay_ratio4</th>\n",
       "      <th>pay_ratio5</th>\n",
       "      <th>ratio_avg</th>\n",
       "      <th>util1</th>\n",
       "      <th>util2</th>\n",
       "      <th>util3</th>\n",
       "      <th>util4</th>\n",
       "      <th>util5</th>\n",
       "      <th>util6</th>\n",
       "      <th>util_avg</th>\n",
       "      <th>balance_growth_6mo</th>\n",
       "      <th>bill_max</th>\n",
       "      <th>payment_max</th>\n",
       "      <th>pay_max</th>\n",
       "    </tr>\n",
       "  </thead>\n",
       "  <tbody>\n",
       "    <tr>\n",
       "      <th>0</th>\n",
       "      <td>1</td>\n",
       "      <td>21-30</td>\n",
       "      <td>1284.000000</td>\n",
       "      <td>114.833333</td>\n",
       "      <td>0.000000</td>\n",
       "      <td>1.000000</td>\n",
       "      <td>1.000000</td>\n",
       "      <td>1.000000</td>\n",
       "      <td>1.000000</td>\n",
       "      <td>0.800000</td>\n",
       "      <td>0.195650</td>\n",
       "      <td>0.155100</td>\n",
       "      <td>0.034450</td>\n",
       "      <td>0.000000</td>\n",
       "      <td>0.000000</td>\n",
       "      <td>0.000000</td>\n",
       "      <td>0.064200</td>\n",
       "      <td>-0.195650</td>\n",
       "      <td>3913</td>\n",
       "      <td>689</td>\n",
       "      <td>2.0</td>\n",
       "    </tr>\n",
       "    <tr>\n",
       "      <th>1</th>\n",
       "      <td>1</td>\n",
       "      <td>21-30</td>\n",
       "      <td>2846.166667</td>\n",
       "      <td>833.333333</td>\n",
       "      <td>0.000000</td>\n",
       "      <td>0.372856</td>\n",
       "      <td>0.305623</td>\n",
       "      <td>0.289436</td>\n",
       "      <td>0.000000</td>\n",
       "      <td>0.193583</td>\n",
       "      <td>0.022350</td>\n",
       "      <td>0.014375</td>\n",
       "      <td>0.022350</td>\n",
       "      <td>0.027267</td>\n",
       "      <td>0.028792</td>\n",
       "      <td>0.028792</td>\n",
       "      <td>0.023987</td>\n",
       "      <td>0.006442</td>\n",
       "      <td>3455</td>\n",
       "      <td>2000</td>\n",
       "      <td>2.0</td>\n",
       "    </tr>\n",
       "    <tr>\n",
       "      <th>2</th>\n",
       "      <td>0</td>\n",
       "      <td>31-40</td>\n",
       "      <td>16942.166667</td>\n",
       "      <td>1836.333333</td>\n",
       "      <td>0.108220</td>\n",
       "      <td>0.110628</td>\n",
       "      <td>0.069779</td>\n",
       "      <td>0.066899</td>\n",
       "      <td>0.064313</td>\n",
       "      <td>0.083968</td>\n",
       "      <td>0.324878</td>\n",
       "      <td>0.155856</td>\n",
       "      <td>0.150656</td>\n",
       "      <td>0.159233</td>\n",
       "      <td>0.166089</td>\n",
       "      <td>0.166089</td>\n",
       "      <td>0.187133</td>\n",
       "      <td>-0.158789</td>\n",
       "      <td>29239</td>\n",
       "      <td>5000</td>\n",
       "      <td>0.0</td>\n",
       "    </tr>\n",
       "    <tr>\n",
       "      <th>3</th>\n",
       "      <td>0</td>\n",
       "      <td>31-40</td>\n",
       "      <td>38555.666667</td>\n",
       "      <td>1398.000000</td>\n",
       "      <td>0.041465</td>\n",
       "      <td>0.040961</td>\n",
       "      <td>0.042382</td>\n",
       "      <td>0.037985</td>\n",
       "      <td>0.036180</td>\n",
       "      <td>0.039794</td>\n",
       "      <td>0.939800</td>\n",
       "      <td>0.964660</td>\n",
       "      <td>0.985820</td>\n",
       "      <td>0.566280</td>\n",
       "      <td>0.579180</td>\n",
       "      <td>0.579180</td>\n",
       "      <td>0.769153</td>\n",
       "      <td>-0.360620</td>\n",
       "      <td>49291</td>\n",
       "      <td>2019</td>\n",
       "      <td>0.0</td>\n",
       "    </tr>\n",
       "    <tr>\n",
       "      <th>4</th>\n",
       "      <td>0</td>\n",
       "      <td>51-60</td>\n",
       "      <td>18223.166667</td>\n",
       "      <td>9841.500000</td>\n",
       "      <td>0.352734</td>\n",
       "      <td>1.023608</td>\n",
       "      <td>0.477555</td>\n",
       "      <td>0.470072</td>\n",
       "      <td>0.036015</td>\n",
       "      <td>0.471997</td>\n",
       "      <td>0.172340</td>\n",
       "      <td>0.113400</td>\n",
       "      <td>0.716700</td>\n",
       "      <td>0.418800</td>\n",
       "      <td>0.382920</td>\n",
       "      <td>0.382920</td>\n",
       "      <td>0.364513</td>\n",
       "      <td>0.210580</td>\n",
       "      <td>35835</td>\n",
       "      <td>36681</td>\n",
       "      <td>0.0</td>\n",
       "    </tr>\n",
       "  </tbody>\n",
       "</table>\n",
       "</div>"
      ],
      "text/plain": [
       "   DEFAULT age_bins      bill_avg  payment_avg  pay_ratio1  pay_ratio2  \\\n",
       "0        1    21-30   1284.000000   114.833333    0.000000    1.000000   \n",
       "1        1    21-30   2846.166667   833.333333    0.000000    0.372856   \n",
       "2        0    31-40  16942.166667  1836.333333    0.108220    0.110628   \n",
       "3        0    31-40  38555.666667  1398.000000    0.041465    0.040961   \n",
       "4        0    51-60  18223.166667  9841.500000    0.352734    1.023608   \n",
       "\n",
       "   pay_ratio3  pay_ratio4  pay_ratio5  ratio_avg     util1     util2  \\\n",
       "0    1.000000    1.000000    1.000000   0.800000  0.195650  0.155100   \n",
       "1    0.305623    0.289436    0.000000   0.193583  0.022350  0.014375   \n",
       "2    0.069779    0.066899    0.064313   0.083968  0.324878  0.155856   \n",
       "3    0.042382    0.037985    0.036180   0.039794  0.939800  0.964660   \n",
       "4    0.477555    0.470072    0.036015   0.471997  0.172340  0.113400   \n",
       "\n",
       "      util3     util4     util5     util6  util_avg  balance_growth_6mo  \\\n",
       "0  0.034450  0.000000  0.000000  0.000000  0.064200           -0.195650   \n",
       "1  0.022350  0.027267  0.028792  0.028792  0.023987            0.006442   \n",
       "2  0.150656  0.159233  0.166089  0.166089  0.187133           -0.158789   \n",
       "3  0.985820  0.566280  0.579180  0.579180  0.769153           -0.360620   \n",
       "4  0.716700  0.418800  0.382920  0.382920  0.364513            0.210580   \n",
       "\n",
       "   bill_max  payment_max  pay_max  \n",
       "0      3913          689      2.0  \n",
       "1      3455         2000      2.0  \n",
       "2     29239         5000      0.0  \n",
       "3     49291         2019      0.0  \n",
       "4     35835        36681      0.0  "
      ]
     },
     "metadata": {},
     "output_type": "display_data"
    }
   ],
   "source": [
    "\n",
    "display(credit_card_default_eng.describe())\n",
    "display(credit_card_default_eng.head())"
   ]
  },
  {
   "cell_type": "code",
   "execution_count": 19,
   "id": "a6c2e642",
   "metadata": {},
   "outputs": [
    {
     "data": {
      "text/plain": [
       "DEFAULT                  int32\n",
       "age_bins              category\n",
       "bill_avg               float64\n",
       "payment_avg            float64\n",
       "pay_ratio1             float64\n",
       "pay_ratio2             float64\n",
       "pay_ratio3             float64\n",
       "pay_ratio4             float64\n",
       "pay_ratio5             float64\n",
       "ratio_avg              float64\n",
       "util1                  float64\n",
       "util2                  float64\n",
       "util3                  float64\n",
       "util4                  float64\n",
       "util5                  float64\n",
       "util6                  float64\n",
       "util_avg               float64\n",
       "balance_growth_6mo     float64\n",
       "bill_max                 int32\n",
       "payment_max              int32\n",
       "pay_max                float64\n",
       "dtype: object"
      ]
     },
     "execution_count": 19,
     "metadata": {},
     "output_type": "execute_result"
    }
   ],
   "source": [
    "credit_card_default_eng.dtypes"
   ]
  },
  {
   "cell_type": "code",
   "execution_count": 20,
   "id": "0cd2572b",
   "metadata": {},
   "outputs": [],
   "source": [
    "# clean data\n",
    "credit_card_default = credit_card_default_eng.copy()\n",
    "df_flags = credit_card_default_raw['data.group']\n",
    "credit_card_default = credit_card_default.join(df_flags)\n",
    "\n",
    "credit_card_default['age_bins'].replace({\n",
    "      '21-30': 1\n",
    "    , '31-40': 2\n",
    "    , '51-60': 3\n",
    "    , '41-50': 4\n",
    "    , '61-70': 5\n",
    "    , '71-80': 6\n",
    "}, inplace=True)"
   ]
  },
  {
   "cell_type": "code",
   "execution_count": 21,
   "id": "dbcc1fba",
   "metadata": {},
   "outputs": [
    {
     "name": "stdout",
     "output_type": "stream",
     "text": [
      "train data size: (15180, 21)\n",
      "test data size: (7323, 21)\n",
      "validate data size: (7497, 21)\n"
     ]
    }
   ],
   "source": [
    "ccd_train = credit_card_default[credit_card_default['data.group']==1].drop(columns='data.group')\n",
    "ccd_test = credit_card_default[credit_card_default['data.group']==2].drop(columns='data.group')\n",
    "ccd_validate = credit_card_default[credit_card_default['data.group']==3].drop(columns='data.group')\n",
    "\n",
    "print('train data size:', ccd_train.shape)\n",
    "print('test data size:', ccd_test.shape)\n",
    "print('validate data size:', ccd_validate.shape)"
   ]
  },
  {
   "cell_type": "code",
   "execution_count": 22,
   "id": "ba56ddeb",
   "metadata": {},
   "outputs": [],
   "source": [
    "X = credit_card_default.drop(columns='data.group')\n",
    "X_train = ccd_train.drop(columns='DEFAULT')\n",
    "X_train_official = ccd_train.drop(columns='DEFAULT') # _official is for k_fold or other resplitting methods that would change defn\n",
    "X_test = ccd_test.drop(columns='DEFAULT')\n",
    "X_test_official = ccd_test.drop(columns='DEFAULT')\n",
    "\n",
    "y = credit_card_default['DEFAULT']\n",
    "y_train = ccd_train['DEFAULT']\n",
    "y_train_official = ccd_train['DEFAULT']\n",
    "y_test = ccd_test['DEFAULT']\n",
    "y_test_official = ccd_test['DEFAULT']"
   ]
  },
  {
   "cell_type": "markdown",
   "id": "89f2d9d8",
   "metadata": {},
   "source": [
    "Prep for modeling"
   ]
  },
  {
   "cell_type": "code",
   "execution_count": 23,
   "id": "9b3eff3f",
   "metadata": {},
   "outputs": [],
   "source": [
    "all_features = credit_card_default_eng.columns\n",
    "all_features = all_features.tolist()"
   ]
  },
  {
   "cell_type": "code",
   "execution_count": 24,
   "id": "55bee92d",
   "metadata": {},
   "outputs": [
    {
     "data": {
      "text/plain": [
       "['bill_avg',\n",
       " 'payment_avg',\n",
       " 'pay_ratio1',\n",
       " 'pay_ratio2',\n",
       " 'pay_ratio3',\n",
       " 'pay_ratio4',\n",
       " 'pay_ratio5',\n",
       " 'ratio_avg',\n",
       " 'util1',\n",
       " 'util2',\n",
       " 'util3',\n",
       " 'util4',\n",
       " 'util5',\n",
       " 'util6',\n",
       " 'util_avg',\n",
       " 'balance_growth_6mo',\n",
       " 'bill_max',\n",
       " 'payment_max',\n",
       " 'pay_max']"
      ]
     },
     "metadata": {},
     "output_type": "display_data"
    },
    {
     "data": {
      "text/plain": [
       "['age_bins']"
      ]
     },
     "metadata": {},
     "output_type": "display_data"
    }
   ],
   "source": [
    "numerical_features = [c for c, dtype in zip(X_train.columns, X_train.dtypes)\n",
    "                     if dtype.kind in ['i','f']]\n",
    "display(numerical_features)\n",
    "categorical_features = [c for c, dtype in zip(X_train.columns, X_train.dtypes)\n",
    "                     if dtype.kind not in ['i','f']]\n",
    "display(categorical_features)"
   ]
  },
  {
   "cell_type": "code",
   "execution_count": 25,
   "id": "82ba9fa8",
   "metadata": {},
   "outputs": [],
   "source": [
    "### we've done our own splitting\n",
    "\n",
    "# #import train_test_split library\n",
    "# from sklearn.model_selection import train_test_split\n",
    "\n",
    "# # create train test split\n",
    "# y_train, X_test, y_train, y_test = train_test_split(X,  y, test_size=0.3, random_state=42) "
   ]
  },
  {
   "cell_type": "code",
   "execution_count": 26,
   "id": "3273c65d",
   "metadata": {},
   "outputs": [],
   "source": [
    "preprocessor = make_column_transformer(\n",
    "    \n",
    "    (make_pipeline(\n",
    "    SimpleImputer(strategy = 'median'),\n",
    "    # KNNImputer(n_neighbors=2, weights=\"uniform\"),\n",
    "    MinMaxScaler()), numerical_features),\n",
    "    \n",
    "    (make_pipeline(\n",
    "    SimpleImputer(strategy = 'constant', fill_value = 'missing'),  # ValueError: 'fill_value'=missing is invalid. Expected a numerical value when imputing numerical data\n",
    "    OneHotEncoder(categories = 'auto', handle_unknown = 'ignore')), categorical_features),\n",
    "    \n",
    ")"
   ]
  },
  {
   "cell_type": "code",
   "execution_count": 27,
   "id": "f1d6f6bc",
   "metadata": {},
   "outputs": [],
   "source": [
    "preprocessor_best = make_pipeline(preprocessor, \n",
    "                                  VarianceThreshold(), \n",
    "                                  SelectKBest(f_classif, k = 'all')\n",
    "                                 )"
   ]
  },
  {
   "cell_type": "markdown",
   "id": "6166bbbf",
   "metadata": {},
   "source": [
    "5.a Model\n",
    "source: https://towardsdatascience.com/logistic-regression-using-python-sklearn-numpy-mnist-handwriting-recognition-matplotlib-a6b31e2b166a"
   ]
  },
  {
   "cell_type": "code",
   "execution_count": 28,
   "id": "473134ed",
   "metadata": {},
   "outputs": [],
   "source": [
    "from sklearn.linear_model import LogisticRegression\n",
    "logisticRegr = LogisticRegression()\n"
   ]
  },
  {
   "cell_type": "code",
   "execution_count": 29,
   "id": "987fe178",
   "metadata": {},
   "outputs": [
    {
     "data": {
      "text/html": [
       "<style>#sk-container-id-1 {color: black;background-color: white;}#sk-container-id-1 pre{padding: 0;}#sk-container-id-1 div.sk-toggleable {background-color: white;}#sk-container-id-1 label.sk-toggleable__label {cursor: pointer;display: block;width: 100%;margin-bottom: 0;padding: 0.3em;box-sizing: border-box;text-align: center;}#sk-container-id-1 label.sk-toggleable__label-arrow:before {content: \"▸\";float: left;margin-right: 0.25em;color: #696969;}#sk-container-id-1 label.sk-toggleable__label-arrow:hover:before {color: black;}#sk-container-id-1 div.sk-estimator:hover label.sk-toggleable__label-arrow:before {color: black;}#sk-container-id-1 div.sk-toggleable__content {max-height: 0;max-width: 0;overflow: hidden;text-align: left;background-color: #f0f8ff;}#sk-container-id-1 div.sk-toggleable__content pre {margin: 0.2em;color: black;border-radius: 0.25em;background-color: #f0f8ff;}#sk-container-id-1 input.sk-toggleable__control:checked~div.sk-toggleable__content {max-height: 200px;max-width: 100%;overflow: auto;}#sk-container-id-1 input.sk-toggleable__control:checked~label.sk-toggleable__label-arrow:before {content: \"▾\";}#sk-container-id-1 div.sk-estimator input.sk-toggleable__control:checked~label.sk-toggleable__label {background-color: #d4ebff;}#sk-container-id-1 div.sk-label input.sk-toggleable__control:checked~label.sk-toggleable__label {background-color: #d4ebff;}#sk-container-id-1 input.sk-hidden--visually {border: 0;clip: rect(1px 1px 1px 1px);clip: rect(1px, 1px, 1px, 1px);height: 1px;margin: -1px;overflow: hidden;padding: 0;position: absolute;width: 1px;}#sk-container-id-1 div.sk-estimator {font-family: monospace;background-color: #f0f8ff;border: 1px dotted black;border-radius: 0.25em;box-sizing: border-box;margin-bottom: 0.5em;}#sk-container-id-1 div.sk-estimator:hover {background-color: #d4ebff;}#sk-container-id-1 div.sk-parallel-item::after {content: \"\";width: 100%;border-bottom: 1px solid gray;flex-grow: 1;}#sk-container-id-1 div.sk-label:hover label.sk-toggleable__label {background-color: #d4ebff;}#sk-container-id-1 div.sk-serial::before {content: \"\";position: absolute;border-left: 1px solid gray;box-sizing: border-box;top: 0;bottom: 0;left: 50%;z-index: 0;}#sk-container-id-1 div.sk-serial {display: flex;flex-direction: column;align-items: center;background-color: white;padding-right: 0.2em;padding-left: 0.2em;position: relative;}#sk-container-id-1 div.sk-item {position: relative;z-index: 1;}#sk-container-id-1 div.sk-parallel {display: flex;align-items: stretch;justify-content: center;background-color: white;position: relative;}#sk-container-id-1 div.sk-item::before, #sk-container-id-1 div.sk-parallel-item::before {content: \"\";position: absolute;border-left: 1px solid gray;box-sizing: border-box;top: 0;bottom: 0;left: 50%;z-index: -1;}#sk-container-id-1 div.sk-parallel-item {display: flex;flex-direction: column;z-index: 1;position: relative;background-color: white;}#sk-container-id-1 div.sk-parallel-item:first-child::after {align-self: flex-end;width: 50%;}#sk-container-id-1 div.sk-parallel-item:last-child::after {align-self: flex-start;width: 50%;}#sk-container-id-1 div.sk-parallel-item:only-child::after {width: 0;}#sk-container-id-1 div.sk-dashed-wrapped {border: 1px dashed gray;margin: 0 0.4em 0.5em 0.4em;box-sizing: border-box;padding-bottom: 0.4em;background-color: white;}#sk-container-id-1 div.sk-label label {font-family: monospace;font-weight: bold;display: inline-block;line-height: 1.2em;}#sk-container-id-1 div.sk-label-container {text-align: center;}#sk-container-id-1 div.sk-container {/* jupyter's `normalize.less` sets `[hidden] { display: none; }` but bootstrap.min.css set `[hidden] { display: none !important; }` so we also need the `!important` here to be able to override the default hidden behavior on the sphinx rendered scikit-learn.org. See: https://github.com/scikit-learn/scikit-learn/issues/21755 */display: inline-block !important;position: relative;}#sk-container-id-1 div.sk-text-repr-fallback {display: none;}</style><div id=\"sk-container-id-1\" class=\"sk-top-container\"><div class=\"sk-text-repr-fallback\"><pre>LogisticRegression()</pre><b>In a Jupyter environment, please rerun this cell to show the HTML representation or trust the notebook. <br />On GitHub, the HTML representation is unable to render, please try loading this page with nbviewer.org.</b></div><div class=\"sk-container\" hidden><div class=\"sk-item\"><div class=\"sk-estimator sk-toggleable\"><input class=\"sk-toggleable__control sk-hidden--visually\" id=\"sk-estimator-id-1\" type=\"checkbox\" checked><label for=\"sk-estimator-id-1\" class=\"sk-toggleable__label sk-toggleable__label-arrow\">LogisticRegression</label><div class=\"sk-toggleable__content\"><pre>LogisticRegression()</pre></div></div></div></div></div>"
      ],
      "text/plain": [
       "LogisticRegression()"
      ]
     },
     "execution_count": 29,
     "metadata": {},
     "output_type": "execute_result"
    }
   ],
   "source": [
    "logisticRegr.fit(X_train, y_train)\n"
   ]
  },
  {
   "cell_type": "code",
   "execution_count": 40,
   "id": "39ace13a",
   "metadata": {},
   "outputs": [
    {
     "data": {
      "text/plain": [
       "0.79052300969548"
      ]
     },
     "execution_count": 40,
     "metadata": {},
     "output_type": "execute_result"
    }
   ],
   "source": [
    "predictions = logisticRegr.predict(X_test)\n",
    "score = logisticRegr.score(X_test_official, y_test_official)\n",
    "score"
   ]
  },
  {
   "cell_type": "code",
   "execution_count": 41,
   "id": "67001b12",
   "metadata": {},
   "outputs": [
    {
     "name": "stdout",
     "output_type": "stream",
     "text": [
      "[[5737   29]\n",
      " [1505   52]]\n"
     ]
    },
    {
     "data": {
      "image/png": "[encoded data removed]",
      "text/plain": [
       "<Figure size 648x648 with 2 Axes>"
      ]
     },
     "metadata": {
      "needs_background": "light"
     },
     "output_type": "display_data"
    }
   ],
   "source": [
    "cm = metrics.confusion_matrix(y_test, predictions)\n",
    "print(cm)\n",
    "\n",
    "plt.figure(figsize=(9,9))\n",
    "sns.heatmap(cm, annot=True, fmt=\".3f\", linewidths=.5, square = True, cmap = 'Blues_r');\n",
    "plt.ylabel('Actual label');\n",
    "plt.xlabel('Predicted label');\n",
    "all_sample_title = 'Accuracy Score: {0}'.format(score)\n",
    "plt.title(all_sample_title, size = 15);\n"
   ]
  },
  {
   "cell_type": "markdown",
   "id": "c1423a0b",
   "metadata": {},
   "source": [
    "review imbalance  \n",
    "source: https://machinelearningmastery.com/cost-sensitive-logistic-regression/"
   ]
  },
  {
   "cell_type": "code",
   "execution_count": 57,
   "id": "f9f33393",
   "metadata": {},
   "outputs": [
    {
     "name": "stdout",
     "output_type": "stream",
     "text": [
      "Counter({0: 23364, 1: 6636})\n"
     ]
    }
   ],
   "source": [
    "from collections import Counter\n",
    "from sklearn.datasets import make_classification\n",
    "from numpy import where\n",
    "\n",
    "# summarize class distribution\n",
    "counter = Counter(y)\n",
    "print(counter)"
   ]
  },
  {
   "cell_type": "code",
   "execution_count": 58,
   "id": "dcea8c32",
   "metadata": {},
   "outputs": [
    {
     "ename": "InvalidIndexError",
     "evalue": "(array([    0,     1,    13, ..., 29997, 29998, 29999], dtype=int64), 0)",
     "output_type": "error",
     "traceback": [
      "\u001b[1;31m---------------------------------------------------------------------------\u001b[0m",
      "\u001b[1;31mTypeError\u001b[0m                                 Traceback (most recent call last)",
      "File \u001b[1;32mc:\\Users\\steve\\miniconda3\\envs\\sklearn\\lib\\site-packages\\pandas\\core\\indexes\\base.py:3621\u001b[0m, in \u001b[0;36mIndex.get_loc\u001b[1;34m(self, key, method, tolerance)\u001b[0m\n\u001b[0;32m   3620\u001b[0m \u001b[39mtry\u001b[39;00m:\n\u001b[1;32m-> 3621\u001b[0m     \u001b[39mreturn\u001b[39;00m \u001b[39mself\u001b[39;49m\u001b[39m.\u001b[39;49m_engine\u001b[39m.\u001b[39;49mget_loc(casted_key)\n\u001b[0;32m   3622\u001b[0m \u001b[39mexcept\u001b[39;00m \u001b[39mKeyError\u001b[39;00m \u001b[39mas\u001b[39;00m err:\n",
      "File \u001b[1;32mc:\\Users\\steve\\miniconda3\\envs\\sklearn\\lib\\site-packages\\pandas\\_libs\\index.pyx:136\u001b[0m, in \u001b[0;36mpandas._libs.index.IndexEngine.get_loc\u001b[1;34m()\u001b[0m\n",
      "File \u001b[1;32mc:\\Users\\steve\\miniconda3\\envs\\sklearn\\lib\\site-packages\\pandas\\_libs\\index.pyx:142\u001b[0m, in \u001b[0;36mpandas._libs.index.IndexEngine.get_loc\u001b[1;34m()\u001b[0m\n",
      "\u001b[1;31mTypeError\u001b[0m: '(array([    0,     1,    13, ..., 29997, 29998, 29999], dtype=int64), 0)' is an invalid key",
      "\nDuring handling of the above exception, another exception occurred:\n",
      "\u001b[1;31mInvalidIndexError\u001b[0m                         Traceback (most recent call last)",
      "\u001b[1;32mc:\\Users\\steve\\gits\\nw-msds498\\04d3 - required models - LogReg.ipynb Cell 22\u001b[0m in \u001b[0;36m<cell line: 2>\u001b[1;34m()\u001b[0m\n\u001b[0;32m      <a href='vscode-notebook-cell:/c%3A/Users/steve/gits/nw-msds498/04d3%20-%20required%20models%20-%20LogReg.ipynb#ch0000055?line=1'>2</a>\u001b[0m \u001b[39mfor\u001b[39;00m label, _ \u001b[39min\u001b[39;00m counter\u001b[39m.\u001b[39mitems():\n\u001b[0;32m      <a href='vscode-notebook-cell:/c%3A/Users/steve/gits/nw-msds498/04d3%20-%20required%20models%20-%20LogReg.ipynb#ch0000055?line=2'>3</a>\u001b[0m \trow_ix \u001b[39m=\u001b[39m where(y \u001b[39m==\u001b[39m label)[\u001b[39m0\u001b[39m]\n\u001b[1;32m----> <a href='vscode-notebook-cell:/c%3A/Users/steve/gits/nw-msds498/04d3%20-%20required%20models%20-%20LogReg.ipynb#ch0000055?line=3'>4</a>\u001b[0m \tplt\u001b[39m.\u001b[39mscatter(X[row_ix, \u001b[39m0\u001b[39;49m], X[row_ix, \u001b[39m1\u001b[39m], label\u001b[39m=\u001b[39m\u001b[39mstr\u001b[39m(label))\n\u001b[0;32m      <a href='vscode-notebook-cell:/c%3A/Users/steve/gits/nw-msds498/04d3%20-%20required%20models%20-%20LogReg.ipynb#ch0000055?line=4'>5</a>\u001b[0m plt\u001b[39m.\u001b[39mlegend()\n\u001b[0;32m      <a href='vscode-notebook-cell:/c%3A/Users/steve/gits/nw-msds498/04d3%20-%20required%20models%20-%20LogReg.ipynb#ch0000055?line=5'>6</a>\u001b[0m plt\u001b[39m.\u001b[39mshow()\n",
      "File \u001b[1;32mc:\\Users\\steve\\miniconda3\\envs\\sklearn\\lib\\site-packages\\pandas\\core\\frame.py:3505\u001b[0m, in \u001b[0;36mDataFrame.__getitem__\u001b[1;34m(self, key)\u001b[0m\n\u001b[0;32m   3503\u001b[0m \u001b[39mif\u001b[39;00m \u001b[39mself\u001b[39m\u001b[39m.\u001b[39mcolumns\u001b[39m.\u001b[39mnlevels \u001b[39m>\u001b[39m \u001b[39m1\u001b[39m:\n\u001b[0;32m   3504\u001b[0m     \u001b[39mreturn\u001b[39;00m \u001b[39mself\u001b[39m\u001b[39m.\u001b[39m_getitem_multilevel(key)\n\u001b[1;32m-> 3505\u001b[0m indexer \u001b[39m=\u001b[39m \u001b[39mself\u001b[39;49m\u001b[39m.\u001b[39;49mcolumns\u001b[39m.\u001b[39;49mget_loc(key)\n\u001b[0;32m   3506\u001b[0m \u001b[39mif\u001b[39;00m is_integer(indexer):\n\u001b[0;32m   3507\u001b[0m     indexer \u001b[39m=\u001b[39m [indexer]\n",
      "File \u001b[1;32mc:\\Users\\steve\\miniconda3\\envs\\sklearn\\lib\\site-packages\\pandas\\core\\indexes\\base.py:3628\u001b[0m, in \u001b[0;36mIndex.get_loc\u001b[1;34m(self, key, method, tolerance)\u001b[0m\n\u001b[0;32m   3623\u001b[0m         \u001b[39mraise\u001b[39;00m \u001b[39mKeyError\u001b[39;00m(key) \u001b[39mfrom\u001b[39;00m \u001b[39merr\u001b[39;00m\n\u001b[0;32m   3624\u001b[0m     \u001b[39mexcept\u001b[39;00m \u001b[39mTypeError\u001b[39;00m:\n\u001b[0;32m   3625\u001b[0m         \u001b[39m# If we have a listlike key, _check_indexing_error will raise\u001b[39;00m\n\u001b[0;32m   3626\u001b[0m         \u001b[39m#  InvalidIndexError. Otherwise we fall through and re-raise\u001b[39;00m\n\u001b[0;32m   3627\u001b[0m         \u001b[39m#  the TypeError.\u001b[39;00m\n\u001b[1;32m-> 3628\u001b[0m         \u001b[39mself\u001b[39;49m\u001b[39m.\u001b[39;49m_check_indexing_error(key)\n\u001b[0;32m   3629\u001b[0m         \u001b[39mraise\u001b[39;00m\n\u001b[0;32m   3631\u001b[0m \u001b[39m# GH#42269\u001b[39;00m\n",
      "File \u001b[1;32mc:\\Users\\steve\\miniconda3\\envs\\sklearn\\lib\\site-packages\\pandas\\core\\indexes\\base.py:5637\u001b[0m, in \u001b[0;36mIndex._check_indexing_error\u001b[1;34m(self, key)\u001b[0m\n\u001b[0;32m   5633\u001b[0m \u001b[39mdef\u001b[39;00m \u001b[39m_check_indexing_error\u001b[39m(\u001b[39mself\u001b[39m, key):\n\u001b[0;32m   5634\u001b[0m     \u001b[39mif\u001b[39;00m \u001b[39mnot\u001b[39;00m is_scalar(key):\n\u001b[0;32m   5635\u001b[0m         \u001b[39m# if key is not a scalar, directly raise an error (the code below\u001b[39;00m\n\u001b[0;32m   5636\u001b[0m         \u001b[39m# would convert to numpy arrays and raise later any way) - GH29926\u001b[39;00m\n\u001b[1;32m-> 5637\u001b[0m         \u001b[39mraise\u001b[39;00m InvalidIndexError(key)\n",
      "\u001b[1;31mInvalidIndexError\u001b[0m: (array([    0,     1,    13, ..., 29997, 29998, 29999], dtype=int64), 0)"
     ]
    }
   ],
   "source": [
    "# scatter plot of examples by class label\n",
    "for label, _ in counter.items():\n",
    "\trow_ix = where(y == label)[0]\n",
    "\tplt.scatter(X[row_ix, 0], X[row_ix, 1], label=str(label))\n",
    "plt.legend()\n",
    "plt.show()"
   ]
  },
  {
   "cell_type": "code",
   "execution_count": 63,
   "id": "430f6240",
   "metadata": {},
   "outputs": [
    {
     "name": "stdout",
     "output_type": "stream",
     "text": [
      "Mean ROC AUC: 0.985\n"
     ]
    }
   ],
   "source": [
    "# fit a logistic regression model on an imbalanced classification dataset\n",
    "from numpy import mean\n",
    "from sklearn.datasets import make_classification\n",
    "from sklearn.model_selection import cross_val_score\n",
    "from sklearn.model_selection import RepeatedStratifiedKFold\n",
    "from sklearn.linear_model import LogisticRegression\n",
    "# generate dataset\n",
    "X_train, y_train = make_classification(n_samples=10000, n_features=2, n_redundant=0,\n",
    "\tn_clusters_per_class=1, weights=[0.99], flip_y=0, random_state=2)\n",
    "# define model\n",
    "logReg3 = LogisticRegression(solver='lbfgs')\n",
    "# define evaluation procedure\n",
    "cv = RepeatedStratifiedKFold(n_splits=10, n_repeats=3, random_state=1)\n",
    "# evaluate model\n",
    "scores = cross_val_score(logReg3, X_train, y_train, scoring='roc_auc', cv=cv, n_jobs=-1)\n",
    "# summarize performance\n",
    "print('Mean ROC AUC: %.3f' % mean(scores))"
   ]
  },
  {
   "cell_type": "code",
   "execution_count": 64,
   "id": "c1fb5523",
   "metadata": {},
   "outputs": [
    {
     "ename": "NotFittedError",
     "evalue": "This LogisticRegression instance is not fitted yet. Call 'fit' with appropriate arguments before using this estimator.",
     "output_type": "error",
     "traceback": [
      "\u001b[1;31m---------------------------------------------------------------------------\u001b[0m",
      "\u001b[1;31mNotFittedError\u001b[0m                            Traceback (most recent call last)",
      "\u001b[1;32mc:\\Users\\steve\\gits\\nw-msds498\\04d3 - required models - LogReg.ipynb Cell 24\u001b[0m in \u001b[0;36m<cell line: 1>\u001b[1;34m()\u001b[0m\n\u001b[1;32m----> <a href='vscode-notebook-cell:/c%3A/Users/steve/gits/nw-msds498/04d3%20-%20required%20models%20-%20LogReg.ipynb#ch0000057?line=0'>1</a>\u001b[0m predictions \u001b[39m=\u001b[39m logReg3\u001b[39m.\u001b[39;49mpredict(X_test)\n\u001b[0;32m      <a href='vscode-notebook-cell:/c%3A/Users/steve/gits/nw-msds498/04d3%20-%20required%20models%20-%20LogReg.ipynb#ch0000057?line=1'>2</a>\u001b[0m score \u001b[39m=\u001b[39m logReg3\u001b[39m.\u001b[39mscore(X_test, y_test)\n\u001b[0;32m      <a href='vscode-notebook-cell:/c%3A/Users/steve/gits/nw-msds498/04d3%20-%20required%20models%20-%20LogReg.ipynb#ch0000057?line=2'>3</a>\u001b[0m score\n",
      "File \u001b[1;32mc:\\Users\\steve\\miniconda3\\envs\\sklearn\\lib\\site-packages\\sklearn\\linear_model\\_base.py:447\u001b[0m, in \u001b[0;36mLinearClassifierMixin.predict\u001b[1;34m(self, X)\u001b[0m\n\u001b[0;32m    433\u001b[0m \u001b[39mdef\u001b[39;00m \u001b[39mpredict\u001b[39m(\u001b[39mself\u001b[39m, X):\n\u001b[0;32m    434\u001b[0m     \u001b[39m\"\"\"\u001b[39;00m\n\u001b[0;32m    435\u001b[0m \u001b[39m    Predict class labels for samples in X.\u001b[39;00m\n\u001b[0;32m    436\u001b[0m \n\u001b[1;32m   (...)\u001b[0m\n\u001b[0;32m    445\u001b[0m \u001b[39m        Vector containing the class labels for each sample.\u001b[39;00m\n\u001b[0;32m    446\u001b[0m \u001b[39m    \"\"\"\u001b[39;00m\n\u001b[1;32m--> 447\u001b[0m     scores \u001b[39m=\u001b[39m \u001b[39mself\u001b[39;49m\u001b[39m.\u001b[39;49mdecision_function(X)\n\u001b[0;32m    448\u001b[0m     \u001b[39mif\u001b[39;00m \u001b[39mlen\u001b[39m(scores\u001b[39m.\u001b[39mshape) \u001b[39m==\u001b[39m \u001b[39m1\u001b[39m:\n\u001b[0;32m    449\u001b[0m         indices \u001b[39m=\u001b[39m (scores \u001b[39m>\u001b[39m \u001b[39m0\u001b[39m)\u001b[39m.\u001b[39mastype(\u001b[39mint\u001b[39m)\n",
      "File \u001b[1;32mc:\\Users\\steve\\miniconda3\\envs\\sklearn\\lib\\site-packages\\sklearn\\linear_model\\_base.py:427\u001b[0m, in \u001b[0;36mLinearClassifierMixin.decision_function\u001b[1;34m(self, X)\u001b[0m\n\u001b[0;32m    408\u001b[0m \u001b[39mdef\u001b[39;00m \u001b[39mdecision_function\u001b[39m(\u001b[39mself\u001b[39m, X):\n\u001b[0;32m    409\u001b[0m     \u001b[39m\"\"\"\u001b[39;00m\n\u001b[0;32m    410\u001b[0m \u001b[39m    Predict confidence scores for samples.\u001b[39;00m\n\u001b[0;32m    411\u001b[0m \n\u001b[1;32m   (...)\u001b[0m\n\u001b[0;32m    425\u001b[0m \u001b[39m        this class would be predicted.\u001b[39;00m\n\u001b[0;32m    426\u001b[0m \u001b[39m    \"\"\"\u001b[39;00m\n\u001b[1;32m--> 427\u001b[0m     check_is_fitted(\u001b[39mself\u001b[39;49m)\n\u001b[0;32m    429\u001b[0m     X \u001b[39m=\u001b[39m \u001b[39mself\u001b[39m\u001b[39m.\u001b[39m_validate_data(X, accept_sparse\u001b[39m=\u001b[39m\u001b[39m\"\u001b[39m\u001b[39mcsr\u001b[39m\u001b[39m\"\u001b[39m, reset\u001b[39m=\u001b[39m\u001b[39mFalse\u001b[39;00m)\n\u001b[0;32m    430\u001b[0m     scores \u001b[39m=\u001b[39m safe_sparse_dot(X, \u001b[39mself\u001b[39m\u001b[39m.\u001b[39mcoef_\u001b[39m.\u001b[39mT, dense_output\u001b[39m=\u001b[39m\u001b[39mTrue\u001b[39;00m) \u001b[39m+\u001b[39m \u001b[39mself\u001b[39m\u001b[39m.\u001b[39mintercept_\n",
      "File \u001b[1;32mc:\\Users\\steve\\miniconda3\\envs\\sklearn\\lib\\site-packages\\sklearn\\utils\\validation.py:1345\u001b[0m, in \u001b[0;36mcheck_is_fitted\u001b[1;34m(estimator, attributes, msg, all_or_any)\u001b[0m\n\u001b[0;32m   1340\u001b[0m     fitted \u001b[39m=\u001b[39m [\n\u001b[0;32m   1341\u001b[0m         v \u001b[39mfor\u001b[39;00m v \u001b[39min\u001b[39;00m \u001b[39mvars\u001b[39m(estimator) \u001b[39mif\u001b[39;00m v\u001b[39m.\u001b[39mendswith(\u001b[39m\"\u001b[39m\u001b[39m_\u001b[39m\u001b[39m\"\u001b[39m) \u001b[39mand\u001b[39;00m \u001b[39mnot\u001b[39;00m v\u001b[39m.\u001b[39mstartswith(\u001b[39m\"\u001b[39m\u001b[39m__\u001b[39m\u001b[39m\"\u001b[39m)\n\u001b[0;32m   1342\u001b[0m     ]\n\u001b[0;32m   1344\u001b[0m \u001b[39mif\u001b[39;00m \u001b[39mnot\u001b[39;00m fitted:\n\u001b[1;32m-> 1345\u001b[0m     \u001b[39mraise\u001b[39;00m NotFittedError(msg \u001b[39m%\u001b[39m {\u001b[39m\"\u001b[39m\u001b[39mname\u001b[39m\u001b[39m\"\u001b[39m: \u001b[39mtype\u001b[39m(estimator)\u001b[39m.\u001b[39m\u001b[39m__name__\u001b[39m})\n",
      "\u001b[1;31mNotFittedError\u001b[0m: This LogisticRegression instance is not fitted yet. Call 'fit' with appropriate arguments before using this estimator."
     ]
    }
   ],
   "source": [
    "predictions = logReg3.predict(X_test)\n",
    "score = logReg3.score(X_test, y_test)\n",
    "score"
   ]
  },
  {
   "cell_type": "markdown",
   "id": "59b52115",
   "metadata": {},
   "source": [
    "previous kfold overfit quickly  \n",
    "try weighting"
   ]
  },
  {
   "cell_type": "code",
   "execution_count": 66,
   "id": "569d516c",
   "metadata": {},
   "outputs": [],
   "source": [
    "# define model\n",
    "weights = {0:1.0, 1:4.0}\n",
    "model = LogisticRegression(solver='lbfgs', class_weight=weights)"
   ]
  },
  {
   "cell_type": "code",
   "execution_count": 67,
   "id": "d57379b7",
   "metadata": {},
   "outputs": [
    {
     "name": "stdout",
     "output_type": "stream",
     "text": [
      "Mean ROC AUC: 0.989\n"
     ]
    }
   ],
   "source": [
    "# weighted logistic regression model on an imbalanced classification dataset\n",
    "from numpy import mean\n",
    "from sklearn.datasets import make_classification\n",
    "from sklearn.model_selection import cross_val_score\n",
    "from sklearn.model_selection import RepeatedStratifiedKFold\n",
    "from sklearn.linear_model import LogisticRegression\n",
    "# generate dataset\n",
    "X, y = make_classification(n_samples=10000, n_features=2, n_redundant=0,\n",
    "\tn_clusters_per_class=1, weights=[0.99], flip_y=0, random_state=2)\n",
    "# define model\n",
    "weights = {0:0.01, 1:1.0}\n",
    "model = LogisticRegression(solver='lbfgs', class_weight=weights)\n",
    "# define evaluation procedure\n",
    "cv = RepeatedStratifiedKFold(n_splits=10, n_repeats=3, random_state=1)\n",
    "# evaluate model\n",
    "scores = cross_val_score(model, X, y, scoring='roc_auc', cv=cv, n_jobs=-1)\n",
    "# summarize performance\n",
    "print('Mean ROC AUC: %.3f' % mean(scores))"
   ]
  },
  {
   "cell_type": "code",
   "execution_count": 69,
   "id": "d4d10a23",
   "metadata": {},
   "outputs": [
    {
     "ename": "NotFittedError",
     "evalue": "This LogisticRegression instance is not fitted yet. Call 'fit' with appropriate arguments before using this estimator.",
     "output_type": "error",
     "traceback": [
      "\u001b[1;31m---------------------------------------------------------------------------\u001b[0m",
      "\u001b[1;31mNotFittedError\u001b[0m                            Traceback (most recent call last)",
      "\u001b[1;32mc:\\Users\\steve\\gits\\nw-msds498\\04d3 - required models - LogReg.ipynb Cell 28\u001b[0m in \u001b[0;36m<cell line: 1>\u001b[1;34m()\u001b[0m\n\u001b[1;32m----> <a href='vscode-notebook-cell:/c%3A/Users/steve/gits/nw-msds498/04d3%20-%20required%20models%20-%20LogReg.ipynb#ch0000064?line=0'>1</a>\u001b[0m predictions \u001b[39m=\u001b[39m model\u001b[39m.\u001b[39;49mpredict(X_test)\n\u001b[0;32m      <a href='vscode-notebook-cell:/c%3A/Users/steve/gits/nw-msds498/04d3%20-%20required%20models%20-%20LogReg.ipynb#ch0000064?line=1'>2</a>\u001b[0m score \u001b[39m=\u001b[39m model\u001b[39m.\u001b[39mscore(X_test, y_test)\n\u001b[0;32m      <a href='vscode-notebook-cell:/c%3A/Users/steve/gits/nw-msds498/04d3%20-%20required%20models%20-%20LogReg.ipynb#ch0000064?line=2'>3</a>\u001b[0m score\n",
      "File \u001b[1;32mc:\\Users\\steve\\miniconda3\\envs\\sklearn\\lib\\site-packages\\sklearn\\linear_model\\_base.py:447\u001b[0m, in \u001b[0;36mLinearClassifierMixin.predict\u001b[1;34m(self, X)\u001b[0m\n\u001b[0;32m    433\u001b[0m \u001b[39mdef\u001b[39;00m \u001b[39mpredict\u001b[39m(\u001b[39mself\u001b[39m, X):\n\u001b[0;32m    434\u001b[0m     \u001b[39m\"\"\"\u001b[39;00m\n\u001b[0;32m    435\u001b[0m \u001b[39m    Predict class labels for samples in X.\u001b[39;00m\n\u001b[0;32m    436\u001b[0m \n\u001b[1;32m   (...)\u001b[0m\n\u001b[0;32m    445\u001b[0m \u001b[39m        Vector containing the class labels for each sample.\u001b[39;00m\n\u001b[0;32m    446\u001b[0m \u001b[39m    \"\"\"\u001b[39;00m\n\u001b[1;32m--> 447\u001b[0m     scores \u001b[39m=\u001b[39m \u001b[39mself\u001b[39;49m\u001b[39m.\u001b[39;49mdecision_function(X)\n\u001b[0;32m    448\u001b[0m     \u001b[39mif\u001b[39;00m \u001b[39mlen\u001b[39m(scores\u001b[39m.\u001b[39mshape) \u001b[39m==\u001b[39m \u001b[39m1\u001b[39m:\n\u001b[0;32m    449\u001b[0m         indices \u001b[39m=\u001b[39m (scores \u001b[39m>\u001b[39m \u001b[39m0\u001b[39m)\u001b[39m.\u001b[39mastype(\u001b[39mint\u001b[39m)\n",
      "File \u001b[1;32mc:\\Users\\steve\\miniconda3\\envs\\sklearn\\lib\\site-packages\\sklearn\\linear_model\\_base.py:427\u001b[0m, in \u001b[0;36mLinearClassifierMixin.decision_function\u001b[1;34m(self, X)\u001b[0m\n\u001b[0;32m    408\u001b[0m \u001b[39mdef\u001b[39;00m \u001b[39mdecision_function\u001b[39m(\u001b[39mself\u001b[39m, X):\n\u001b[0;32m    409\u001b[0m     \u001b[39m\"\"\"\u001b[39;00m\n\u001b[0;32m    410\u001b[0m \u001b[39m    Predict confidence scores for samples.\u001b[39;00m\n\u001b[0;32m    411\u001b[0m \n\u001b[1;32m   (...)\u001b[0m\n\u001b[0;32m    425\u001b[0m \u001b[39m        this class would be predicted.\u001b[39;00m\n\u001b[0;32m    426\u001b[0m \u001b[39m    \"\"\"\u001b[39;00m\n\u001b[1;32m--> 427\u001b[0m     check_is_fitted(\u001b[39mself\u001b[39;49m)\n\u001b[0;32m    429\u001b[0m     X \u001b[39m=\u001b[39m \u001b[39mself\u001b[39m\u001b[39m.\u001b[39m_validate_data(X, accept_sparse\u001b[39m=\u001b[39m\u001b[39m\"\u001b[39m\u001b[39mcsr\u001b[39m\u001b[39m\"\u001b[39m, reset\u001b[39m=\u001b[39m\u001b[39mFalse\u001b[39;00m)\n\u001b[0;32m    430\u001b[0m     scores \u001b[39m=\u001b[39m safe_sparse_dot(X, \u001b[39mself\u001b[39m\u001b[39m.\u001b[39mcoef_\u001b[39m.\u001b[39mT, dense_output\u001b[39m=\u001b[39m\u001b[39mTrue\u001b[39;00m) \u001b[39m+\u001b[39m \u001b[39mself\u001b[39m\u001b[39m.\u001b[39mintercept_\n",
      "File \u001b[1;32mc:\\Users\\steve\\miniconda3\\envs\\sklearn\\lib\\site-packages\\sklearn\\utils\\validation.py:1345\u001b[0m, in \u001b[0;36mcheck_is_fitted\u001b[1;34m(estimator, attributes, msg, all_or_any)\u001b[0m\n\u001b[0;32m   1340\u001b[0m     fitted \u001b[39m=\u001b[39m [\n\u001b[0;32m   1341\u001b[0m         v \u001b[39mfor\u001b[39;00m v \u001b[39min\u001b[39;00m \u001b[39mvars\u001b[39m(estimator) \u001b[39mif\u001b[39;00m v\u001b[39m.\u001b[39mendswith(\u001b[39m\"\u001b[39m\u001b[39m_\u001b[39m\u001b[39m\"\u001b[39m) \u001b[39mand\u001b[39;00m \u001b[39mnot\u001b[39;00m v\u001b[39m.\u001b[39mstartswith(\u001b[39m\"\u001b[39m\u001b[39m__\u001b[39m\u001b[39m\"\u001b[39m)\n\u001b[0;32m   1342\u001b[0m     ]\n\u001b[0;32m   1344\u001b[0m \u001b[39mif\u001b[39;00m \u001b[39mnot\u001b[39;00m fitted:\n\u001b[1;32m-> 1345\u001b[0m     \u001b[39mraise\u001b[39;00m NotFittedError(msg \u001b[39m%\u001b[39m {\u001b[39m\"\u001b[39m\u001b[39mname\u001b[39m\u001b[39m\"\u001b[39m: \u001b[39mtype\u001b[39m(estimator)\u001b[39m.\u001b[39m\u001b[39m__name__\u001b[39m})\n",
      "\u001b[1;31mNotFittedError\u001b[0m: This LogisticRegression instance is not fitted yet. Call 'fit' with appropriate arguments before using this estimator."
     ]
    }
   ],
   "source": [
    "predictions = cv..predict(X_test)\n",
    "score = model.score(X_test, y_test)\n",
    "score"
   ]
  },
  {
   "cell_type": "markdown",
   "id": "6ea0de61",
   "metadata": {},
   "source": [
    "determine correct weighting  \n",
    "source: https://machinelearningmastery.com/cost-sensitive-logistic-regression/#:~:text=for%20each%20class.-,Weighted%20Logistic%20Regression%20with%20Scikit%2DLearn,-The%20scikit%2Dlearn"
   ]
  },
  {
   "cell_type": "code",
   "execution_count": 71,
   "id": "112b1e0c",
   "metadata": {},
   "outputs": [
    {
     "name": "stdout",
     "output_type": "stream",
     "text": [
      "[ 0.50505051 50.        ]\n"
     ]
    }
   ],
   "source": [
    "# calculate heuristic class weighting\n",
    "from sklearn.utils.class_weight import compute_class_weight\n",
    "from sklearn.datasets import make_classification\n",
    "# generate 2 class dataset\n",
    "X, y = make_classification(n_samples=10000, n_features=2, n_redundant=0,\n",
    "\tn_clusters_per_class=1, weights=[0.99], flip_y=0, random_state=2)\n",
    "# calculate class weighting\n",
    "weighting = compute_class_weight(class_weight = 'balanced', classes = [0,1], y = y)\n",
    "print(weighting)"
   ]
  },
  {
   "cell_type": "code",
   "execution_count": 79,
   "id": "41d85a8a",
   "metadata": {},
   "outputs": [
    {
     "name": "stderr",
     "output_type": "stream",
     "text": [
      "c:\\Users\\steve\\miniconda3\\envs\\sklearn\\lib\\site-packages\\sklearn\\linear_model\\_logistic.py:329: FutureWarning: elementwise comparison failed; returning scalar instead, but in the future will perform elementwise comparison\n",
      "  if class_weight == \"balanced\":\n"
     ]
    },
    {
     "data": {
      "text/html": [
       "<style>#sk-container-id-6 {color: black;background-color: white;}#sk-container-id-6 pre{padding: 0;}#sk-container-id-6 div.sk-toggleable {background-color: white;}#sk-container-id-6 label.sk-toggleable__label {cursor: pointer;display: block;width: 100%;margin-bottom: 0;padding: 0.3em;box-sizing: border-box;text-align: center;}#sk-container-id-6 label.sk-toggleable__label-arrow:before {content: \"▸\";float: left;margin-right: 0.25em;color: #696969;}#sk-container-id-6 label.sk-toggleable__label-arrow:hover:before {color: black;}#sk-container-id-6 div.sk-estimator:hover label.sk-toggleable__label-arrow:before {color: black;}#sk-container-id-6 div.sk-toggleable__content {max-height: 0;max-width: 0;overflow: hidden;text-align: left;background-color: #f0f8ff;}#sk-container-id-6 div.sk-toggleable__content pre {margin: 0.2em;color: black;border-radius: 0.25em;background-color: #f0f8ff;}#sk-container-id-6 input.sk-toggleable__control:checked~div.sk-toggleable__content {max-height: 200px;max-width: 100%;overflow: auto;}#sk-container-id-6 input.sk-toggleable__control:checked~label.sk-toggleable__label-arrow:before {content: \"▾\";}#sk-container-id-6 div.sk-estimator input.sk-toggleable__control:checked~label.sk-toggleable__label {background-color: #d4ebff;}#sk-container-id-6 div.sk-label input.sk-toggleable__control:checked~label.sk-toggleable__label {background-color: #d4ebff;}#sk-container-id-6 input.sk-hidden--visually {border: 0;clip: rect(1px 1px 1px 1px);clip: rect(1px, 1px, 1px, 1px);height: 1px;margin: -1px;overflow: hidden;padding: 0;position: absolute;width: 1px;}#sk-container-id-6 div.sk-estimator {font-family: monospace;background-color: #f0f8ff;border: 1px dotted black;border-radius: 0.25em;box-sizing: border-box;margin-bottom: 0.5em;}#sk-container-id-6 div.sk-estimator:hover {background-color: #d4ebff;}#sk-container-id-6 div.sk-parallel-item::after {content: \"\";width: 100%;border-bottom: 1px solid gray;flex-grow: 1;}#sk-container-id-6 div.sk-label:hover label.sk-toggleable__label {background-color: #d4ebff;}#sk-container-id-6 div.sk-serial::before {content: \"\";position: absolute;border-left: 1px solid gray;box-sizing: border-box;top: 0;bottom: 0;left: 50%;z-index: 0;}#sk-container-id-6 div.sk-serial {display: flex;flex-direction: column;align-items: center;background-color: white;padding-right: 0.2em;padding-left: 0.2em;position: relative;}#sk-container-id-6 div.sk-item {position: relative;z-index: 1;}#sk-container-id-6 div.sk-parallel {display: flex;align-items: stretch;justify-content: center;background-color: white;position: relative;}#sk-container-id-6 div.sk-item::before, #sk-container-id-6 div.sk-parallel-item::before {content: \"\";position: absolute;border-left: 1px solid gray;box-sizing: border-box;top: 0;bottom: 0;left: 50%;z-index: -1;}#sk-container-id-6 div.sk-parallel-item {display: flex;flex-direction: column;z-index: 1;position: relative;background-color: white;}#sk-container-id-6 div.sk-parallel-item:first-child::after {align-self: flex-end;width: 50%;}#sk-container-id-6 div.sk-parallel-item:last-child::after {align-self: flex-start;width: 50%;}#sk-container-id-6 div.sk-parallel-item:only-child::after {width: 0;}#sk-container-id-6 div.sk-dashed-wrapped {border: 1px dashed gray;margin: 0 0.4em 0.5em 0.4em;box-sizing: border-box;padding-bottom: 0.4em;background-color: white;}#sk-container-id-6 div.sk-label label {font-family: monospace;font-weight: bold;display: inline-block;line-height: 1.2em;}#sk-container-id-6 div.sk-label-container {text-align: center;}#sk-container-id-6 div.sk-container {/* jupyter's `normalize.less` sets `[hidden] { display: none; }` but bootstrap.min.css set `[hidden] { display: none !important; }` so we also need the `!important` here to be able to override the default hidden behavior on the sphinx rendered scikit-learn.org. See: https://github.com/scikit-learn/scikit-learn/issues/21755 */display: inline-block !important;position: relative;}#sk-container-id-6 div.sk-text-repr-fallback {display: none;}</style><div id=\"sk-container-id-6\" class=\"sk-top-container\"><div class=\"sk-text-repr-fallback\"><pre>LogisticRegression(class_weight=array([ 0.50505051, 50.        ]))</pre><b>In a Jupyter environment, please rerun this cell to show the HTML representation or trust the notebook. <br />On GitHub, the HTML representation is unable to render, please try loading this page with nbviewer.org.</b></div><div class=\"sk-container\" hidden><div class=\"sk-item\"><div class=\"sk-estimator sk-toggleable\"><input class=\"sk-toggleable__control sk-hidden--visually\" id=\"sk-estimator-id-6\" type=\"checkbox\" checked><label for=\"sk-estimator-id-6\" class=\"sk-toggleable__label sk-toggleable__label-arrow\">LogisticRegression</label><div class=\"sk-toggleable__content\"><pre>LogisticRegression(class_weight=array([ 0.50505051, 50.        ]))</pre></div></div></div></div></div>"
      ],
      "text/plain": [
       "LogisticRegression(class_weight=array([ 0.50505051, 50.        ]))"
      ]
     },
     "execution_count": 79,
     "metadata": {},
     "output_type": "execute_result"
    }
   ],
   "source": [
    "logReg4 = LogisticRegression(solver='lbfgs', class_weight=weighting)\n",
    "logReg4.fit(X_train_official,y_train_official)"
   ]
  },
  {
   "cell_type": "code",
   "execution_count": 83,
   "id": "cdde942b",
   "metadata": {},
   "outputs": [
    {
     "data": {
      "text/plain": [
       "0.79052300969548"
      ]
     },
     "execution_count": 83,
     "metadata": {},
     "output_type": "execute_result"
    }
   ],
   "source": [
    "predictions = logReg4.predict(X_test)\n",
    "score = logReg4.score(X_test, y_test)\n",
    "score"
   ]
  },
  {
   "cell_type": "code",
   "execution_count": 84,
   "id": "dc4b279c",
   "metadata": {},
   "outputs": [
    {
     "name": "stdout",
     "output_type": "stream",
     "text": [
      "[[5737   29]\n",
      " [1505   52]]\n"
     ]
    },
    {
     "data": {
      "image/png": "[encoded data removed]",
      "text/plain": [
       "<Figure size 648x648 with 2 Axes>"
      ]
     },
     "metadata": {
      "needs_background": "light"
     },
     "output_type": "display_data"
    }
   ],
   "source": [
    "cm = metrics.confusion_matrix(y_test, predictions)\n",
    "print(cm)\n",
    "\n",
    "plt.figure(figsize=(9,9))\n",
    "sns.heatmap(cm, annot=True, fmt=\".3f\", linewidths=.5, square = True, cmap = 'Blues_r');\n",
    "plt.ylabel('Actual label');\n",
    "plt.xlabel('Predicted label');\n",
    "all_sample_title = 'Accuracy Score: {0}'.format(score)\n",
    "plt.title(all_sample_title, size = 15);\n"
   ]
  },
  {
   "cell_type": "code",
   "execution_count": null,
   "id": "fd42231b",
   "metadata": {},
   "outputs": [],
   "source": []
  }
 ],
 "metadata": {
  "kernelspec": {
   "display_name": "Python 3.10.4 ('sklearn')",
   "language": "python",
   "name": "python3"
  },
  "language_info": {
   "codemirror_mode": {
    "name": "ipython",
    "version": 3
   },
   "file_extension": ".py",
   "mimetype": "text/x-python",
   "name": "python",
   "nbconvert_exporter": "python",
   "pygments_lexer": "ipython3",
   "version": "3.10.4"
  },
  "vscode": {
   "interpreter": {
    "hash": "cfb92a60af4d7fb518c9b5da2dfc233572da65f5c99ace19bf5d7c807d5d188b"
   }
  }
 },
 "nbformat": 4,
 "nbformat_minor": 5
}
